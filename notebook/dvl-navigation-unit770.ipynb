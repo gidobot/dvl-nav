{
 "cells": [
  {
   "cell_type": "markdown",
   "metadata": {},
   "source": [
    "# DVL-NAV -- Unit 770\n",
    "02/11/2022\n",
    "Gregory Burgess\n",
    "\n",
    "---\n",
    "\n",
    "1. [Import Libraries](#import-libraries)\n",
    "1. [Load and Parse Data](#load-and-parse-data)\n",
    "    1. [Bathymetry Data](#import-bathymetry)\n",
    "    1. [Glider Flight Computer Data](#import-glider-flight-computer)\n",
    "    1. [Rosbag Data](#import-rosbag-data)\n",
    "    1. [Separate and Select Dives](#separate-and-select-dives)\n",
    "    1. [DVL Data](#import-dvl-data)\n",
    "1. [Compute Water Column Currents](#compute-water-column-currents)\n",
    "1. [Compute DVL-Odometry](#compute-dvl-odometry)\n",
    "1. [Multi-Factor Terrain Based Navigation](#multi-factor-terrain-based-navigation)\n",
    "    1. [Plot Navigation Results](#plot-navigation-results)\n",
    "    1. [Navigation Performance](#navigation-performance)\n",
    "        2. [Print Performance metrics](#print_metrics)\n",
    "1. [Sandbox](#sandbox)\n"
   ]
  },
  {
   "cell_type": "markdown",
   "metadata": {},
   "source": [
    "Bin number to 20 --- why did i do this again and do i want 40 for puerto rico\n",
    "\n",
    "dvl ensemble coordinate frame"
   ]
  },
  {
   "cell_type": "markdown",
   "metadata": {},
   "source": [
    "---\n",
    "<a id='import-libraries'></a>\n",
    "## Import Libraries"
   ]
  },
  {
   "cell_type": "code",
   "execution_count": 1,
   "metadata": {},
   "outputs": [
    {
     "name": "stdout",
     "output_type": "stream",
     "text": [
      "Done!\n"
     ]
    }
   ],
   "source": [
    "import datetime\n",
    "import earthpy as et\n",
    "import earthpy.plot as ep\n",
    "import importlib\n",
    "import numpy as np\n",
    "import os\n",
    "import pandas as pd\n",
    "import rasterio as rio\n",
    "import scipy\n",
    "import scipy.signal\n",
    "import seaborn as sns \n",
    "import struct\n",
    "import sys\n",
    "import utm\n",
    "import unittest\n",
    "from PIL import Image\n",
    "from matplotlib import pyplot as plt \n",
    "from os import listdir\n",
    "from os.path import isfile, join\n",
    "from scipy.spatial.transform import Rotation as R\n",
    "from scipy import interpolate\n",
    "\n",
    "# add parent directory to the path for importing modules \n",
    "sys.path.insert(1, os.path.join(sys.path[0], '..'))\n",
    "sys.path.append(os.path.join(sys.path[0], '../data'))\n",
    "\n",
    "# objects for parsing raw DVL data \n",
    "import PathfinderDVL\n",
    "import PathfinderEnsemble\n",
    "import PathfinderTimeSeries\n",
    "\n",
    "# objects for estimating ocean current velocities\n",
    "import VelocityShearPropagation\n",
    "\n",
    "# objects for controlling thruster to minimize transport cost \n",
    "import AdaptiveVelocityController\n",
    "\n",
    "# objects for parsing flight and science computer log files\n",
    "import SlocumFlightController\n",
    "import SlocumScienceController\n",
    "import dvl_plotter\n",
    "import BathymetryMap\n",
    "import MultiFactorTAN\n",
    "\n",
    "# data for parsing seafloor bathymetry\n",
    "import bathy_meta_data\n",
    "sns.set()\n",
    "\n",
    "\n",
    "import warnings\n",
    "warnings.simplefilter('ignore')\n",
    "\n",
    "def reload_modules():\n",
    "    importlib.reload(PathfinderDVL)\n",
    "    importlib.reload(PathfinderEnsemble)\n",
    "    importlib.reload(PathfinderTimeSeries)\n",
    "    importlib.reload(VelocityShearPropagation)\n",
    "    importlib.reload(AdaptiveVelocityController)\n",
    "    importlib.reload(SlocumFlightController)\n",
    "    importlib.reload(SlocumScienceController)\n",
    "    importlib.reload(dvl_plotter)\n",
    "    importlib.reload(bathy_meta_data)\n",
    "    importlib.reload(BathymetryMap)\n",
    "    importlib.reload(MultiFactorTAN)\n",
    "print('Done!')\n",
    "\n",
    "#TODO\n",
    "#pip3 install utm threw error --> is this code all designed for python2???"
   ]
  },
  {
   "cell_type": "code",
   "execution_count": 7,
   "metadata": {},
   "outputs": [],
   "source": [
    "filepath = '/home/gburgess/dvl-nav/data/field_data/buzz_bay/dec_15/'"
   ]
  },
  {
   "cell_type": "markdown",
   "metadata": {},
   "source": [
    "---\n",
    "<a id='load-and-parse-data'></a>\n",
    "## Load and Parse Data\n",
    "<a id='import-bathymetry'></a>\n",
    "### Bathymetry Data"
   ]
  },
  {
   "cell_type": "code",
   "execution_count": 5,
   "metadata": {},
   "outputs": [],
   "source": [
    "# #TODO\n",
    "# reload_modules()\n",
    "# #Grid_res_num should always be 10 to represent original resolution of the bathymetry chart. Then, the Minimum spatial resolution will be 5m\n",
    "# #directory = \"/mnt/c/Users/User/Dropbox (MIT)/Kolumbo cruise 2019/zduguid/dbd-parsed/sentinel_2019-Nov/\n",
    "# #10m resolution\n",
    "# #bathy_df = pd.read_csv('/mnt/c/Users/User/Dropbox (MIT)/Kolumbo cruise 2019/zduguid/bathy/sensitivity_tests/Kolumbo-1.csv')\n",
    "# bathy_df = pd.read_csv('/home/gburgess/dvl-nav/data/field_data/kolumbo/bathy/Kolumbo-1.csv')\n",
    "# grid_res_num = 10\n",
    "# # map_var_resolution = '10m'\n",
    "\n",
    "# #20m resolution\n",
    "# #bathy_df_var = pd.read_csv('/mnt/c/Users/User/Dropbox (MIT)/Kolumbo cruise 2019/zduguid/bathy/sensitivity_tests/Kolumbo-2.csv')\n",
    "# bathy_df_var = pd.read_csv('/home/gburgess/dvl-nav/data/field_data/kolumbo/bathy/Kolumbo-2.csv')\n",
    "# map_var_resolution = '20m'\n",
    "# # grid_res_num = 20"
   ]
  },
  {
   "cell_type": "markdown",
   "metadata": {},
   "source": [
    "<a id='import-glider-flight-computer'></a>\n",
    "### Glider Flight Computer Data"
   ]
  },
  {
   "cell_type": "code",
   "execution_count": 8,
   "metadata": {},
   "outputs": [
    {
     "name": "stdout",
     "output_type": "stream",
     "text": [
      ">> Parsing folder of ASC Files\n",
      ">> Finished Parsing!\n"
     ]
    }
   ],
   "source": [
    "reload_modules()\n",
    "directory = filepath+'dbd_parsed/'\n",
    "ts_flight = SlocumFlightController.SlocumFlightController.from_directory(directory, save=False, verbose=False)\n",
    "#ts_flight.df.to_csv(filepath+'ts_flight.csv', sep=',' , index=False)"
   ]
  },
  {
   "cell_type": "markdown",
   "metadata": {},
   "source": [
    "<a id='import-rosbag-data'></a>\n",
    "### Rosbag Data"
   ]
  },
  {
   "cell_type": "code",
   "execution_count": 12,
   "metadata": {},
   "outputs": [],
   "source": [
    "# CTD Sensor\n",
    "ctd_df = pd.read_csv(filepath+ 'rosbags/rosbag_output/' + 'ctd-data.csv')\n",
    "\n",
    "# IMU Sensor\n",
    "ahrs_df = pd.read_csv(filepath+ 'rosbags/rosbag_output/' + 'devices-spartonm2-ahrs.csv')\n",
    "\n",
    "# DVL Sensor\n",
    "dvl_df        = pd.read_csv(filepath+ 'rosbags/rosbag_output/' + 'devices-dvl-dvl.csv')\n",
    "dvl_pd0_df    = pd.read_csv(filepath+ 'rosbags/rosbag_output/' + 'devices-dvl-pd0.csv')\n",
    "dvl_ranges_df = pd.read_csv(filepath+ 'rosbags/rosbag_output/' + 'devices-dvl-ranges.csv')\n",
    "dvl_raw_df    = pd.read_csv(filepath+ 'rosbags/rosbag_output/' + 'devices-dvl-instrument-raw.csv')\n",
    "\n",
    "# EXTCTL - GLider \n",
    "m_lon_df     = pd.read_csv(filepath+ 'rosbags/rosbag_output/' + 'extctl-sensors-m_lon.csv')\n",
    "m_lat_df     = pd.read_csv(filepath+ 'rosbags/rosbag_output/' + 'extctl-sensors-m_lat.csv')\n",
    "m_gps_lon_df    = pd.read_csv(filepath+ 'rosbags/rosbag_output/' + 'extctl-sensors-m_gps_lon.csv')\n",
    "m_gps_lat_df    = pd.read_csv(filepath+ 'rosbags/rosbag_output/' + 'extctl-sensors-m_gps_lat.csv')\n",
    "m_depth_df      = pd.read_csv(filepath+ 'rosbags/rosbag_output/' + 'extctl-sensors-m_depth.csv')\n",
    "m_pitch_df      = pd.read_csv(filepath+ 'rosbags/rosbag_output/' + 'extctl-sensors-m_pitch.csv')\n",
    "m_roll_df       = pd.read_csv(filepath+ 'rosbags/rosbag_output/' + 'extctl-sensors-m_roll.csv')\n",
    "m_altitude_df   = pd.read_csv(filepath+ 'rosbags/rosbag_output/' + 'extctl-sensors-m_altitude.csv')\n",
    "m_alt_status_df = pd.read_csv(filepath+ 'rosbags/rosbag_output/' + 'extctl-sensors-m_altimeter_status.csv')\n",
    "\n",
    "# Micron Sonar\n",
    "\n"
   ]
  },
  {
   "cell_type": "markdown",
   "metadata": {},
   "source": [
    "<a id='separate-and-select-dives'></a>\n",
    "### Separate and Select Dives"
   ]
  },
  {
   "cell_type": "code",
   "execution_count": null,
   "metadata": {},
   "outputs": [],
   "source": [
    "#TODO"
   ]
  },
  {
   "cell_type": "markdown",
   "metadata": {},
   "source": [
    "<a id='import-dvl-data'></a>\n",
    "### DVL Data"
   ]
  },
  {
   "cell_type": "code",
   "execution_count": null,
   "metadata": {},
   "outputs": [],
   "source": [
    "#TODO"
   ]
  },
  {
   "cell_type": "markdown",
   "metadata": {},
   "source": [
    "---\n",
    "<a id='compute-water-column-currents'></a>\n",
    "## Compute Water Column Currents\n"
   ]
  },
  {
   "cell_type": "code",
   "execution_count": null,
   "metadata": {},
   "outputs": [],
   "source": [
    "#TODO"
   ]
  },
  {
   "cell_type": "markdown",
   "metadata": {},
   "source": [
    "---\n",
    "<a id='compute-dvl-odometry'></a>\n",
    "## Compute DVL-Odometry"
   ]
  },
  {
   "cell_type": "code",
   "execution_count": 2,
   "metadata": {},
   "outputs": [],
   "source": [
    "#TODO"
   ]
  },
  {
   "cell_type": "markdown",
   "metadata": {},
   "source": [
    "---\n",
    "## Plot Navigation Results "
   ]
  },
  {
   "cell_type": "code",
   "execution_count": 4,
   "metadata": {},
   "outputs": [],
   "source": [
    "#TODO"
   ]
  }
 ],
 "metadata": {
  "kernelspec": {
   "display_name": "Python 3",
   "language": "python",
   "name": "python3"
  },
  "language_info": {
   "codemirror_mode": {
    "name": "ipython",
    "version": 3
   },
   "file_extension": ".py",
   "mimetype": "text/x-python",
   "name": "python",
   "nbconvert_exporter": "python",
   "pygments_lexer": "ipython3",
   "version": "3.8.10"
  }
 },
 "nbformat": 4,
 "nbformat_minor": 4
}
