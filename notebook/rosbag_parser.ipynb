{
 "cells": [
  {
   "cell_type": "markdown",
   "metadata": {},
   "source": [
    "# Rosbag Parser\n",
    "02/11/2022\n",
    "Gregory Burgess\n",
    "\n",
    "In folder where rosbags are stored, need another folder called '/path_to_rosbags/rosbag_output/'"
   ]
  },
  {
   "cell_type": "markdown",
   "metadata": {},
   "source": [
    "---\n",
    "## Import Libraries"
   ]
  },
  {
   "cell_type": "code",
   "execution_count": 1,
   "metadata": {},
   "outputs": [],
   "source": [
    "import bagpy\n",
    "import pandas as pd\n",
    "import seaborn as sea\n",
    "import matplotlib.pyplot as plt\n",
    "import numpy as np\n",
    "\n",
    "from bagpy import bagreader"
   ]
  },
  {
   "cell_type": "markdown",
   "metadata": {},
   "source": [
    "---\n",
    "## Import Rosbags\n",
    "### Insert filepath to Rosbags\n"
   ]
  },
  {
   "cell_type": "code",
   "execution_count": 4,
   "metadata": {},
   "outputs": [],
   "source": [
    "#filepath = '/home/gburgess/dvl-nav/data/field_data/buzz_bay/dec_15/rosbags/'\n",
    "filepath = '/home/gburgess/dvl-nav/data/field_data/puerto_rico/mar8/rosbags/'\n",
    "# Grab all files ending with .bag in filepath\n",
    "bags_raw = [bag for bag in os.listdir(path=filepath) if bag.endswith('.bag')]\n",
    "# Sort rosbag files in chronological order\n",
    "bags_raw.sort()"
   ]
  },
  {
   "cell_type": "markdown",
   "metadata": {},
   "source": [
    "## Select Which Topics to Sort out"
   ]
  },
  {
   "cell_type": "code",
   "execution_count": 150,
   "metadata": {},
   "outputs": [],
   "source": [
    "# Can look at an individual bag\n",
    "# b=bagreader(filepath+bags_raw[3])\n",
    "# b.topic_table"
   ]
  },
  {
   "cell_type": "code",
   "execution_count": 5,
   "metadata": {},
   "outputs": [],
   "source": [
    "topics = [\n",
    "    '/devices/spartonm2/ahrs',\n",
    "    '/devices/dvl/instrument/raw',\n",
    "    '/devices/dvl/pd0',\n",
    "    '/devices/dvl/ranges',\n",
    "    '/devices/dvl/dvl',\n",
    "    '/extctl/sensors/m_depth',\n",
    "    '/extctl/sensors/m_altitude',\n",
    "    '/extctl/sensors/m_altimeter_status',\n",
    "    '/extctl/sensors/m_dist_to_wpt',\n",
    "    '/extctl/sensors/m_gps_lat',\n",
    "    '/extctl/sensors/m_gps_lon',\n",
    "    '/extctl/sensors/m_lat',\n",
    "    '/extctl/sensors/m_lon',\n",
    "    '/extctl/sensors/m_pitch',\n",
    "    '/extctl/sensors/m_present_time',\n",
    "    '/extctl/sensors/m_roll',\n",
    "    '/extctl/sensors/m_water_depth',\n",
    "    '/extctl/sensors/m_heading',\n",
    "    '/tritech_micron_beam',\n",
    "    '/tritech_micron_data',\n",
    "    '/ctd/data',\n",
    "    '/battery_pack/data'\n",
    "]"
   ]
  },
  {
   "cell_type": "markdown",
   "metadata": {},
   "source": [
    "### Parse Bags"
   ]
  },
  {
   "cell_type": "code",
   "execution_count": 6,
   "metadata": {},
   "outputs": [
    {
     "name": "stdout",
     "output_type": "stream",
     "text": [
      "[INFO]  Successfully created the data folder /home/gburgess/dvl-nav/data/field_data/puerto_rico/mar8/rosbags/2022-03-08-11-04-23_0.\n",
      "[INFO]  Successfully created the data folder /home/gburgess/dvl-nav/data/field_data/puerto_rico/mar8/rosbags/2022-03-08-11-09-39_1.\n",
      "[INFO]  Successfully created the data folder /home/gburgess/dvl-nav/data/field_data/puerto_rico/mar8/rosbags/2022-03-08-11-14-40_2.\n",
      "No data on the topic:/ctd/data\n",
      "[INFO]  Successfully created the data folder /home/gburgess/dvl-nav/data/field_data/puerto_rico/mar8/rosbags/2022-03-08-11-19-43_3.\n",
      "No data on the topic:/ctd/data\n",
      "[INFO]  Successfully created the data folder /home/gburgess/dvl-nav/data/field_data/puerto_rico/mar8/rosbags/2022-03-08-11-24-45_4.\n",
      "No data on the topic:/ctd/data\n",
      "[INFO]  Successfully created the data folder /home/gburgess/dvl-nav/data/field_data/puerto_rico/mar8/rosbags/2022-03-08-11-29-49_5.\n",
      "[INFO]  Successfully created the data folder /home/gburgess/dvl-nav/data/field_data/puerto_rico/mar8/rosbags/2022-03-08-11-34-23_6.\n",
      "[INFO]  Successfully created the data folder /home/gburgess/dvl-nav/data/field_data/puerto_rico/mar8/rosbags/2022-03-08-11-39-26_7.\n",
      "[INFO]  Successfully created the data folder /home/gburgess/dvl-nav/data/field_data/puerto_rico/mar8/rosbags/2022-03-08-11-44-29_8.\n",
      "[INFO]  Successfully created the data folder /home/gburgess/dvl-nav/data/field_data/puerto_rico/mar8/rosbags/2022-03-08-11-49-31_9.\n",
      "[INFO]  Successfully created the data folder /home/gburgess/dvl-nav/data/field_data/puerto_rico/mar8/rosbags/2022-03-08-11-54-33_10.\n",
      "[INFO]  Successfully created the data folder /home/gburgess/dvl-nav/data/field_data/puerto_rico/mar8/rosbags/2022-03-08-11-59-35_11.\n",
      "[INFO]  Successfully created the data folder /home/gburgess/dvl-nav/data/field_data/puerto_rico/mar8/rosbags/2022-03-08-12-04-23_12.\n",
      "[INFO]  Successfully created the data folder /home/gburgess/dvl-nav/data/field_data/puerto_rico/mar8/rosbags/2022-03-08-12-09-25_13.\n",
      "[INFO]  Successfully created the data folder /home/gburgess/dvl-nav/data/field_data/puerto_rico/mar8/rosbags/2022-03-08-12-14-28_14.\n",
      "[INFO]  Successfully created the data folder /home/gburgess/dvl-nav/data/field_data/puerto_rico/mar8/rosbags/2022-03-08-12-19-30_15.\n",
      "[INFO]  Successfully created the data folder /home/gburgess/dvl-nav/data/field_data/puerto_rico/mar8/rosbags/2022-03-08-12-24-32_16.\n",
      "[INFO]  Successfully created the data folder /home/gburgess/dvl-nav/data/field_data/puerto_rico/mar8/rosbags/2022-03-08-12-29-35_17.\n",
      "[INFO]  Successfully created the data folder /home/gburgess/dvl-nav/data/field_data/puerto_rico/mar8/rosbags/2022-03-08-12-34-23_18.\n",
      "No data on the topic:/ctd/data\n",
      "[INFO]  Successfully created the data folder /home/gburgess/dvl-nav/data/field_data/puerto_rico/mar8/rosbags/2022-03-08-12-39-26_19.\n",
      "No data on the topic:/ctd/data\n",
      "[INFO]  Successfully created the data folder /home/gburgess/dvl-nav/data/field_data/puerto_rico/mar8/rosbags/2022-03-08-12-44-28_20.\n",
      "[INFO]  Successfully created the data folder /home/gburgess/dvl-nav/data/field_data/puerto_rico/mar8/rosbags/2022-03-08-12-49-30_21.\n",
      "[INFO]  Successfully created the data folder /home/gburgess/dvl-nav/data/field_data/puerto_rico/mar8/rosbags/2022-03-08-12-54-32_22.\n",
      "[INFO]  Successfully created the data folder /home/gburgess/dvl-nav/data/field_data/puerto_rico/mar8/rosbags/2022-03-08-12-59-35_23.\n",
      "[INFO]  Successfully created the data folder /home/gburgess/dvl-nav/data/field_data/puerto_rico/mar8/rosbags/2022-03-08-13-04-23_24.\n",
      "[INFO]  Successfully created the data folder /home/gburgess/dvl-nav/data/field_data/puerto_rico/mar8/rosbags/2022-03-08-13-09-25_25.\n",
      "[INFO]  Successfully created the data folder /home/gburgess/dvl-nav/data/field_data/puerto_rico/mar8/rosbags/2022-03-08-13-14-27_26.\n",
      "[INFO]  Successfully created the data folder /home/gburgess/dvl-nav/data/field_data/puerto_rico/mar8/rosbags/2022-03-08-13-19-30_27.\n",
      "[INFO]  Successfully created the data folder /home/gburgess/dvl-nav/data/field_data/puerto_rico/mar8/rosbags/2022-03-08-13-24-32_28.\n",
      "[INFO]  Successfully created the data folder /home/gburgess/dvl-nav/data/field_data/puerto_rico/mar8/rosbags/2022-03-08-13-29-34_29.\n",
      "[INFO]  Successfully created the data folder /home/gburgess/dvl-nav/data/field_data/puerto_rico/mar8/rosbags/2022-03-08-13-34-23_30.\n",
      "[INFO]  Successfully created the data folder /home/gburgess/dvl-nav/data/field_data/puerto_rico/mar8/rosbags/2022-03-08-13-39-25_31.\n",
      "[INFO]  Successfully created the data folder /home/gburgess/dvl-nav/data/field_data/puerto_rico/mar8/rosbags/2022-03-08-13-44-27_32.\n",
      "[INFO]  Successfully created the data folder /home/gburgess/dvl-nav/data/field_data/puerto_rico/mar8/rosbags/2022-03-08-13-49-30_33.\n",
      "[INFO]  Successfully created the data folder /home/gburgess/dvl-nav/data/field_data/puerto_rico/mar8/rosbags/2022-03-08-13-54-32_34.\n",
      "[INFO]  Successfully created the data folder /home/gburgess/dvl-nav/data/field_data/puerto_rico/mar8/rosbags/2022-03-08-13-59-35_35.\n",
      "No data on the topic:/ctd/data\n",
      "[INFO]  Successfully created the data folder /home/gburgess/dvl-nav/data/field_data/puerto_rico/mar8/rosbags/2022-03-08-14-04-23_36.\n",
      "[INFO]  Successfully created the data folder /home/gburgess/dvl-nav/data/field_data/puerto_rico/mar8/rosbags/2022-03-08-14-09-17_37.\n",
      "[INFO]  Successfully created the data folder /home/gburgess/dvl-nav/data/field_data/puerto_rico/mar8/rosbags/2022-03-08-14-14-15_38.\n",
      "No data on the topic:/ctd/data\n",
      "[INFO]  Successfully created the data folder /home/gburgess/dvl-nav/data/field_data/puerto_rico/mar8/rosbags/2022-03-08-14-19-15_39.\n",
      "[INFO]  Successfully created the data folder /home/gburgess/dvl-nav/data/field_data/puerto_rico/mar8/rosbags/2022-03-08-14-24-09_40.\n",
      "[INFO]  Successfully created the data folder /home/gburgess/dvl-nav/data/field_data/puerto_rico/mar8/rosbags/2022-03-08-14-29-09_41.\n",
      "No data on the topic:/ctd/data\n",
      "[INFO]  Successfully created the data folder /home/gburgess/dvl-nav/data/field_data/puerto_rico/mar8/rosbags/2022-03-08-14-34-11_42.\n",
      "No data on the topic:/ctd/data\n",
      "[INFO]  Successfully created the data folder /home/gburgess/dvl-nav/data/field_data/puerto_rico/mar8/rosbags/2022-03-08-14-34-23_43.\n",
      "No data on the topic:/ctd/data\n"
     ]
    }
   ],
   "source": [
    "# Initialize Dictionary to hold filepaths to generated CSVs\n",
    "csv_dic = {}\n",
    "for t in topics:\n",
    "    csv_dic[t] = []\n",
    "\n",
    "# Parse out Data by topic and generate set of names\n",
    "for bag in bags_raw:\n",
    "    b=bagreader(filepath+bag)\n",
    "    for t in topics:\n",
    "        data = b.message_by_topic(t)\n",
    "        if type(data) == str:\n",
    "            csv_dic[t].append(data)"
   ]
  },
  {
   "cell_type": "code",
   "execution_count": 7,
   "metadata": {},
   "outputs": [
    {
     "name": "stdout",
     "output_type": "stream",
     "text": [
      "/devices/spartonm2/ahrs\n",
      "/devices/dvl/instrument/raw\n",
      "/devices/dvl/pd0\n",
      "/devices/dvl/ranges\n",
      "/devices/dvl/dvl\n",
      "/extctl/sensors/m_depth\n",
      "/extctl/sensors/m_altitude\n",
      "/extctl/sensors/m_altimeter_status\n",
      "/extctl/sensors/m_dist_to_wpt\n",
      "/extctl/sensors/m_gps_lat\n",
      "/extctl/sensors/m_gps_lon\n",
      "/extctl/sensors/m_lat\n",
      "/extctl/sensors/m_lon\n",
      "/extctl/sensors/m_pitch\n",
      "/extctl/sensors/m_present_time\n",
      "/extctl/sensors/m_roll\n",
      "/extctl/sensors/m_water_depth\n",
      "/extctl/sensors/m_heading\n",
      "/tritech_micron_beam\n",
      "/tritech_micron_data\n",
      "/ctd/data\n",
      "/battery_pack/data\n"
     ]
    }
   ],
   "source": [
    "names = []\n",
    "for key in csv_dic:\n",
    "    print(key)\n",
    "    names.append(key.replace('/','-')[1:])\n"
   ]
  },
  {
   "cell_type": "code",
   "execution_count": 8,
   "metadata": {},
   "outputs": [],
   "source": [
    "# Concatenate all csvs into one dataframe per topic\n",
    "final_dic = {}\n",
    "n_count=0\n",
    "for key in csv_dic:\n",
    "    count = 0\n",
    "    temp_dic = {}\n",
    "    for csv in csv_dic[key]:\n",
    "        temp_dic[key+str(count)] = (pd.read_csv(csv, on_bad_lines='skip'))\n",
    "        count += 1\n",
    "    temp_df = pd.concat(temp_dic)\n",
    "    new_df = temp_df.reset_index()\n",
    "    new_df = new_df.iloc[:, 2:]\n",
    "    final_dic[names[n_count]] = new_df\n",
    "    n_count += 1"
   ]
  },
  {
   "cell_type": "code",
   "execution_count": 9,
   "metadata": {},
   "outputs": [],
   "source": [
    "# Save final CSVs to output folder\n",
    "for key in final_dic:\n",
    "    final_dic[key].to_csv(filepath+'rosbag_output/'+str(key)+'.csv')"
   ]
  }
 ],
 "metadata": {
  "kernelspec": {
   "display_name": "Python 3",
   "language": "python",
   "name": "python3"
  },
  "language_info": {
   "codemirror_mode": {
    "name": "ipython",
    "version": 3
   },
   "file_extension": ".py",
   "mimetype": "text/x-python",
   "name": "python",
   "nbconvert_exporter": "python",
   "pygments_lexer": "ipython3",
   "version": "3.8.10"
  }
 },
 "nbformat": 4,
 "nbformat_minor": 4
}
