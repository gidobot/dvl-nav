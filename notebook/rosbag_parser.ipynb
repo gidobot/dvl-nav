{
 "cells": [
  {
   "cell_type": "markdown",
   "metadata": {},
   "source": [
    "# Rosbag Parser\n",
    "02/11/2022\n",
    "Gregory Burgess\n",
    "\n",
    "In folder where rosbags are stored, need another folder called '/path_to_rosbags/rosbag_output/'"
   ]
  },
  {
   "cell_type": "markdown",
   "metadata": {},
   "source": [
    "---\n",
    "## Import Libraries"
   ]
  },
  {
   "cell_type": "code",
   "execution_count": 1,
   "metadata": {},
   "outputs": [],
   "source": [
    "import bagpy\n",
    "import pandas as pd\n",
    "import seaborn as sea\n",
    "import matplotlib.pyplot as plt\n",
    "import numpy as np\n",
    "\n",
    "from bagpy import bagreader"
   ]
  },
  {
   "cell_type": "markdown",
   "metadata": {},
   "source": [
    "---\n",
    "## Import Rosbags\n",
    "### Insert filepath to Rosbags\n"
   ]
  },
  {
   "cell_type": "code",
   "execution_count": 5,
   "metadata": {},
   "outputs": [],
   "source": [
    "#filepath = '/home/gburgess/dvl-nav/data/field_data/buzz_bay/dec_15/rosbags/'\n",
    "filepath = '/home/gburgess/dvl-nav/data/field_data/puerto_rico/rosbags/mar6/'\n",
    "# Grab all files ending with .bag in filepath\n",
    "bags_raw = [bag for bag in os.listdir(path=filepath) if bag.endswith('.bag')]\n",
    "# Sort rosbag files in chronological order\n",
    "bags_raw.sort()"
   ]
  },
  {
   "cell_type": "markdown",
   "metadata": {},
   "source": [
    "## Select Which Topics to Sort out"
   ]
  },
  {
   "cell_type": "code",
   "execution_count": 150,
   "metadata": {},
   "outputs": [],
   "source": [
    "# Can look at an individual bag\n",
    "# b=bagreader(filepath+bags_raw[3])\n",
    "# b.topic_table"
   ]
  },
  {
   "cell_type": "code",
   "execution_count": 6,
   "metadata": {},
   "outputs": [],
   "source": [
    "topics = [\n",
    "    '/devices/spartonm2/ahrs',\n",
    "    '/devices/dvl/instrument/raw',\n",
    "    '/devices/dvl/pd0',\n",
    "    '/devices/dvl/ranges',\n",
    "    '/devices/dvl/dvl',\n",
    "    '/extctl/sensors/m_depth',\n",
    "    '/extctl/sensors/m_altitude',\n",
    "    '/extctl/sensors/m_altimeter_status',\n",
    "    '/extctl/sensors/m_dist_to_wpt',\n",
    "    '/extctl/sensors/m_gps_lat',\n",
    "    '/extctl/sensors/m_gps_lon',\n",
    "    '/extctl/sensors/m_lat',\n",
    "    '/extctl/sensors/m_lon',\n",
    "    '/extctl/sensors/m_pitch',\n",
    "    '/extctl/sensors/m_present_time',\n",
    "    '/extctl/sensors/m_roll',\n",
    "    '/extctl/sensors/m_water_depth',\n",
    "    '/extctl/sensors/m_heading',\n",
    "    '/tritech_micron_beam',\n",
    "    '/tritech_micron_data',\n",
    "    '/ctd/data',\n",
    "    '/battery_pack/data'\n",
    "]"
   ]
  },
  {
   "cell_type": "markdown",
   "metadata": {},
   "source": [
    "### Parse Bags"
   ]
  },
  {
   "cell_type": "code",
   "execution_count": 7,
   "metadata": {},
   "outputs": [
    {
     "name": "stdout",
     "output_type": "stream",
     "text": [
      "[INFO]  Successfully created the data folder /home/gburgess/dvl-nav/data/field_data/puerto_rico/rosbags/mar6/2022-03-06-00-22-18_0.\n",
      "No data on the topic:/extctl/sensors/m_depth\n",
      "No data on the topic:/extctl/sensors/m_altitude\n",
      "No data on the topic:/extctl/sensors/m_altimeter_status\n",
      "No data on the topic:/extctl/sensors/m_dist_to_wpt\n",
      "No data on the topic:/extctl/sensors/m_gps_lat\n",
      "No data on the topic:/extctl/sensors/m_gps_lon\n",
      "No data on the topic:/extctl/sensors/m_lat\n",
      "No data on the topic:/extctl/sensors/m_lon\n",
      "No data on the topic:/extctl/sensors/m_pitch\n",
      "No data on the topic:/extctl/sensors/m_present_time\n",
      "No data on the topic:/extctl/sensors/m_roll\n",
      "No data on the topic:/extctl/sensors/m_water_depth\n",
      "No data on the topic:/ctd/data\n",
      "[INFO]  Successfully created the data folder /home/gburgess/dvl-nav/data/field_data/puerto_rico/rosbags/mar6/2022-03-06-00-40-21_0.\n",
      "No data on the topic:/extctl/sensors/m_depth\n",
      "No data on the topic:/extctl/sensors/m_altitude\n",
      "No data on the topic:/extctl/sensors/m_altimeter_status\n",
      "No data on the topic:/extctl/sensors/m_dist_to_wpt\n",
      "No data on the topic:/extctl/sensors/m_gps_lat\n",
      "No data on the topic:/extctl/sensors/m_gps_lon\n",
      "No data on the topic:/extctl/sensors/m_lat\n",
      "No data on the topic:/extctl/sensors/m_lon\n",
      "No data on the topic:/extctl/sensors/m_pitch\n",
      "No data on the topic:/extctl/sensors/m_present_time\n",
      "No data on the topic:/extctl/sensors/m_roll\n",
      "No data on the topic:/extctl/sensors/m_water_depth\n",
      "No data on the topic:/tritech_micron_beam\n",
      "No data on the topic:/tritech_micron_data\n",
      "No data on the topic:/ctd/data\n",
      "[INFO]  Successfully created the data folder /home/gburgess/dvl-nav/data/field_data/puerto_rico/rosbags/mar6/2022-03-06-00-55-29_0.\n",
      "No data on the topic:/tritech_micron_beam\n",
      "No data on the topic:/tritech_micron_data\n",
      "No data on the topic:/ctd/data\n",
      "[INFO]  Successfully created the data folder /home/gburgess/dvl-nav/data/field_data/puerto_rico/rosbags/mar6/2022-03-06-13-53-00_0.\n",
      "No data on the topic:/extctl/sensors/m_depth\n",
      "No data on the topic:/extctl/sensors/m_altitude\n",
      "No data on the topic:/extctl/sensors/m_altimeter_status\n",
      "No data on the topic:/extctl/sensors/m_dist_to_wpt\n",
      "No data on the topic:/extctl/sensors/m_gps_lat\n",
      "No data on the topic:/extctl/sensors/m_gps_lon\n",
      "No data on the topic:/extctl/sensors/m_lat\n",
      "No data on the topic:/extctl/sensors/m_lon\n",
      "No data on the topic:/extctl/sensors/m_pitch\n",
      "No data on the topic:/extctl/sensors/m_present_time\n",
      "No data on the topic:/extctl/sensors/m_roll\n",
      "No data on the topic:/extctl/sensors/m_water_depth\n",
      "No data on the topic:/ctd/data\n",
      "[INFO]  Successfully created the data folder /home/gburgess/dvl-nav/data/field_data/puerto_rico/rosbags/mar6/2022-03-06-13-58-17_1.\n",
      "No data on the topic:/extctl/sensors/m_depth\n",
      "No data on the topic:/extctl/sensors/m_altitude\n",
      "No data on the topic:/extctl/sensors/m_altimeter_status\n",
      "No data on the topic:/extctl/sensors/m_dist_to_wpt\n",
      "No data on the topic:/extctl/sensors/m_gps_lat\n",
      "No data on the topic:/extctl/sensors/m_gps_lon\n",
      "No data on the topic:/extctl/sensors/m_lat\n",
      "No data on the topic:/extctl/sensors/m_lon\n",
      "No data on the topic:/extctl/sensors/m_pitch\n",
      "No data on the topic:/extctl/sensors/m_present_time\n",
      "No data on the topic:/extctl/sensors/m_roll\n",
      "No data on the topic:/extctl/sensors/m_water_depth\n",
      "No data on the topic:/ctd/data\n",
      "[INFO]  Successfully created the data folder /home/gburgess/dvl-nav/data/field_data/puerto_rico/rosbags/mar6/2022-03-06-14-56-17_0.\n",
      "No data on the topic:/extctl/sensors/m_depth\n",
      "No data on the topic:/extctl/sensors/m_altitude\n",
      "No data on the topic:/extctl/sensors/m_altimeter_status\n",
      "No data on the topic:/extctl/sensors/m_dist_to_wpt\n",
      "No data on the topic:/extctl/sensors/m_gps_lat\n",
      "No data on the topic:/extctl/sensors/m_gps_lon\n",
      "No data on the topic:/extctl/sensors/m_lat\n",
      "No data on the topic:/extctl/sensors/m_lon\n",
      "No data on the topic:/extctl/sensors/m_pitch\n",
      "No data on the topic:/extctl/sensors/m_present_time\n",
      "No data on the topic:/extctl/sensors/m_roll\n",
      "No data on the topic:/extctl/sensors/m_water_depth\n",
      "[INFO]  Successfully created the data folder /home/gburgess/dvl-nav/data/field_data/puerto_rico/rosbags/mar6/2022-03-06-15-01-34_1.\n",
      "[INFO]  Successfully created the data folder /home/gburgess/dvl-nav/data/field_data/puerto_rico/rosbags/mar6/2022-03-06-15-06-23_2.\n",
      "[INFO]  Successfully created the data folder /home/gburgess/dvl-nav/data/field_data/puerto_rico/rosbags/mar6/2022-03-06-15-10-49_3.\n",
      "No data on the topic:/ctd/data\n",
      "[INFO]  Successfully created the data folder /home/gburgess/dvl-nav/data/field_data/puerto_rico/rosbags/mar6/2022-03-06-15-15-41_4.\n",
      "[INFO]  Successfully created the data folder /home/gburgess/dvl-nav/data/field_data/puerto_rico/rosbags/mar6/2022-03-06-15-20-08_5.\n",
      "[INFO]  Successfully created the data folder /home/gburgess/dvl-nav/data/field_data/puerto_rico/rosbags/mar6/2022-03-06-15-25-05_6.\n",
      "No data on the topic:/ctd/data\n",
      "[INFO]  Successfully created the data folder /home/gburgess/dvl-nav/data/field_data/puerto_rico/rosbags/mar6/2022-03-06-15-26-17_7.\n",
      "No data on the topic:/ctd/data\n",
      "[INFO]  Successfully created the data folder /home/gburgess/dvl-nav/data/field_data/puerto_rico/rosbags/mar6/2022-03-06-15-31-20_8.\n",
      "[INFO]  Successfully created the data folder /home/gburgess/dvl-nav/data/field_data/puerto_rico/rosbags/mar6/2022-03-06-15-36-08_9.\n",
      "No data on the topic:/ctd/data\n",
      "[INFO]  Successfully created the data folder /home/gburgess/dvl-nav/data/field_data/puerto_rico/rosbags/mar6/2022-03-06-15-41-11_10.\n",
      "No data on the topic:/ctd/data\n",
      "[INFO]  Successfully created the data folder /home/gburgess/dvl-nav/data/field_data/puerto_rico/rosbags/mar6/2022-03-06-15-46-13_11.\n",
      "No data on the topic:/ctd/data\n",
      "[INFO]  Successfully created the data folder /home/gburgess/dvl-nav/data/field_data/puerto_rico/rosbags/mar6/2022-03-06-15-51-16_12.\n",
      "No data on the topic:/ctd/data\n",
      "[INFO]  Successfully created the data folder /home/gburgess/dvl-nav/data/field_data/puerto_rico/rosbags/mar6/2022-03-06-15-56-04_13.\n",
      "No data on the topic:/ctd/data\n",
      "[INFO]  Successfully created the data folder /home/gburgess/dvl-nav/data/field_data/puerto_rico/rosbags/mar6/2022-03-06-15-56-17_14.\n",
      "No data on the topic:/ctd/data\n",
      "[INFO]  Successfully created the data folder /home/gburgess/dvl-nav/data/field_data/puerto_rico/rosbags/mar6/2022-03-06-16-01-20_15.\n",
      "No data on the topic:/ctd/data\n",
      "[INFO]  Successfully created the data folder /home/gburgess/dvl-nav/data/field_data/puerto_rico/rosbags/mar6/2022-03-06-16-06-23_16.\n",
      "No data on the topic:/ctd/data\n",
      "[INFO]  Successfully created the data folder /home/gburgess/dvl-nav/data/field_data/puerto_rico/rosbags/mar6/2022-03-06-16-11-23_17.\n",
      "[INFO]  Successfully created the data folder /home/gburgess/dvl-nav/data/field_data/puerto_rico/rosbags/mar6/2022-03-06-16-15-49_18.\n",
      "[INFO]  Successfully created the data folder /home/gburgess/dvl-nav/data/field_data/puerto_rico/rosbags/mar6/2022-03-06-16-20-16_19.\n",
      "[INFO]  Successfully created the data folder /home/gburgess/dvl-nav/data/field_data/puerto_rico/rosbags/mar6/2022-03-06-16-24-46_20.\n",
      "No data on the topic:/ctd/data\n",
      "[INFO]  Successfully created the data folder /home/gburgess/dvl-nav/data/field_data/puerto_rico/rosbags/mar6/2022-03-06-16-26-17_21.\n",
      "No data on the topic:/ctd/data\n",
      "[INFO]  Successfully created the data folder /home/gburgess/dvl-nav/data/field_data/puerto_rico/rosbags/mar6/2022-03-06-16-31-08_22.\n",
      "[INFO]  Successfully created the data folder /home/gburgess/dvl-nav/data/field_data/puerto_rico/rosbags/mar6/2022-03-06-16-35-52_23.\n",
      "[INFO]  Successfully created the data folder /home/gburgess/dvl-nav/data/field_data/puerto_rico/rosbags/mar6/2022-03-06-16-40-39_24.\n",
      "[INFO]  Successfully created the data folder /home/gburgess/dvl-nav/data/field_data/puerto_rico/rosbags/mar6/2022-03-06-16-45-27_25.\n",
      "[INFO]  Successfully created the data folder /home/gburgess/dvl-nav/data/field_data/puerto_rico/rosbags/mar6/2022-03-06-16-50-29_26.\n",
      "No data on the topic:/ctd/data\n",
      "[INFO]  Successfully created the data folder /home/gburgess/dvl-nav/data/field_data/puerto_rico/rosbags/mar6/2022-03-06-16-55-33_27.\n",
      "No data on the topic:/ctd/data\n",
      "[INFO]  Successfully created the data folder /home/gburgess/dvl-nav/data/field_data/puerto_rico/rosbags/mar6/2022-03-06-16-56-17_28.\n",
      "[INFO]  Successfully created the data folder /home/gburgess/dvl-nav/data/field_data/puerto_rico/rosbags/mar6/2022-03-06-17-00-54_29.\n",
      "[INFO]  Successfully created the data folder /home/gburgess/dvl-nav/data/field_data/puerto_rico/rosbags/mar6/2022-03-06-17-05-20_30.\n",
      "[INFO]  Successfully created the data folder /home/gburgess/dvl-nav/data/field_data/puerto_rico/rosbags/mar6/2022-03-06-17-09-54_31.\n",
      "[INFO]  Successfully created the data folder /home/gburgess/dvl-nav/data/field_data/puerto_rico/rosbags/mar6/2022-03-06-17-14-33_32.\n",
      "[INFO]  Successfully created the data folder /home/gburgess/dvl-nav/data/field_data/puerto_rico/rosbags/mar6/2022-03-06-17-19-22_33.\n",
      "No data on the topic:/ctd/data\n",
      "[INFO]  Successfully created the data folder /home/gburgess/dvl-nav/data/field_data/puerto_rico/rosbags/mar6/2022-03-06-17-24-25_34.\n",
      "No data on the topic:/ctd/data\n",
      "[INFO]  Successfully created the data folder /home/gburgess/dvl-nav/data/field_data/puerto_rico/rosbags/mar6/2022-03-06-17-26-17_35.\n",
      "No data on the topic:/ctd/data\n",
      "[INFO]  Successfully created the data folder /home/gburgess/dvl-nav/data/field_data/puerto_rico/rosbags/mar6/2022-03-06-17-31-20_36.\n",
      "No data on the topic:/ctd/data\n",
      "[INFO]  Successfully created the data folder /home/gburgess/dvl-nav/data/field_data/puerto_rico/rosbags/mar6/2022-03-06-17-36-23_37.\n",
      "No data on the topic:/ctd/data\n"
     ]
    }
   ],
   "source": [
    "# Initialize Dictionary to hold filepaths to generated CSVs\n",
    "csv_dic = {}\n",
    "for t in topics:\n",
    "    csv_dic[t] = []\n",
    "\n",
    "# Parse out Data by topic and generate set of names\n",
    "for bag in bags_raw:\n",
    "    b=bagreader(filepath+bag)\n",
    "    for t in topics:\n",
    "        data = b.message_by_topic(t)\n",
    "        if type(data) == str:\n",
    "            csv_dic[t].append(data)"
   ]
  },
  {
   "cell_type": "code",
   "execution_count": 8,
   "metadata": {},
   "outputs": [
    {
     "name": "stdout",
     "output_type": "stream",
     "text": [
      "/devices/spartonm2/ahrs\n",
      "/devices/dvl/instrument/raw\n",
      "/devices/dvl/pd0\n",
      "/devices/dvl/ranges\n",
      "/devices/dvl/dvl\n",
      "/extctl/sensors/m_depth\n",
      "/extctl/sensors/m_altitude\n",
      "/extctl/sensors/m_altimeter_status\n",
      "/extctl/sensors/m_dist_to_wpt\n",
      "/extctl/sensors/m_gps_lat\n",
      "/extctl/sensors/m_gps_lon\n",
      "/extctl/sensors/m_lat\n",
      "/extctl/sensors/m_lon\n",
      "/extctl/sensors/m_pitch\n",
      "/extctl/sensors/m_present_time\n",
      "/extctl/sensors/m_roll\n",
      "/extctl/sensors/m_water_depth\n",
      "/tritech_micron_beam\n",
      "/tritech_micron_data\n",
      "/ctd/data\n",
      "/battery_pack/data\n"
     ]
    }
   ],
   "source": [
    "names = []\n",
    "for key in csv_dic:\n",
    "    print(key)\n",
    "    names.append(key.replace('/','-')[1:])\n"
   ]
  },
  {
   "cell_type": "code",
   "execution_count": 9,
   "metadata": {},
   "outputs": [],
   "source": [
    "# Concatenate all csvs into one dataframe per topic\n",
    "final_dic = {}\n",
    "n_count=0\n",
    "for key in csv_dic:\n",
    "    count = 0\n",
    "    temp_dic = {}\n",
    "    for csv in csv_dic[key]:\n",
    "        temp_dic[key+str(count)] = (pd.read_csv(csv, on_bad_lines='skip'))\n",
    "        count += 1\n",
    "    temp_df = pd.concat(temp_dic)\n",
    "    new_df = temp_df.reset_index()\n",
    "    new_df = new_df.iloc[:, 2:]\n",
    "    final_dic[names[n_count]] = new_df\n",
    "    n_count += 1"
   ]
  },
  {
   "cell_type": "code",
   "execution_count": 10,
   "metadata": {},
   "outputs": [],
   "source": [
    "# Save final CSVs to output folder\n",
    "for key in final_dic:\n",
    "    final_dic[key].to_csv(filepath+'rosbag_output/'+str(key)+'.csv')"
   ]
  }
 ],
 "metadata": {
  "kernelspec": {
   "display_name": "Python 3",
   "language": "python",
   "name": "python3"
  },
  "language_info": {
   "codemirror_mode": {
    "name": "ipython",
    "version": 3
   },
   "file_extension": ".py",
   "mimetype": "text/x-python",
   "name": "python",
   "nbconvert_exporter": "python",
   "pygments_lexer": "ipython3",
   "version": "3.8.10"
  }
 },
 "nbformat": 4,
 "nbformat_minor": 4
}
