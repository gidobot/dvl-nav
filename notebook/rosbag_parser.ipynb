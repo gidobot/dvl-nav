{
 "cells": [
  {
   "cell_type": "markdown",
   "metadata": {},
   "source": [
    "# Rosbag Parser\n",
    "02/11/2022\n",
    "Gregory Burgess\n",
    "\n",
    "In folder where rosbags are stored, need another folder called '/path_to_rosbags/rosbag_output/'"
   ]
  },
  {
   "cell_type": "markdown",
   "metadata": {},
   "source": [
    "---\n",
    "## Import Libraries"
   ]
  },
  {
   "cell_type": "code",
   "execution_count": 3,
   "metadata": {},
   "outputs": [],
   "source": [
    "import bagpy\n",
    "import pandas as pd\n",
    "import seaborn as sea\n",
    "import matplotlib.pyplot as plt\n",
    "import numpy as np\n",
    "\n",
    "from bagpy import bagreader"
   ]
  },
  {
   "cell_type": "markdown",
   "metadata": {},
   "source": [
    "---\n",
    "## Import Rosbags\n",
    "### Insert filepath to Rosbags\n"
   ]
  },
  {
   "cell_type": "code",
   "execution_count": 151,
   "metadata": {},
   "outputs": [],
   "source": [
    "filepath = '/home/gburgess/dvl-nav/data/field_data/buzz_bay/dec_15/rosbags/'\n",
    "\n",
    "# Grab all files ending with .bag in filepath\n",
    "bags_raw = [bag for bag in os.listdir(path=filepath) if bag.endswith('.bag')]\n",
    "# Sort rosbag files in chronological order\n",
    "bags_raw.sort()"
   ]
  },
  {
   "cell_type": "markdown",
   "metadata": {},
   "source": [
    "## Select Which Topics to Sort out"
   ]
  },
  {
   "cell_type": "code",
   "execution_count": 150,
   "metadata": {},
   "outputs": [],
   "source": [
    "# Can look at an individual bag\n",
    "# b=bagreader(filepath+bags_raw[3])\n",
    "# b.topic_table"
   ]
  },
  {
   "cell_type": "code",
   "execution_count": 170,
   "metadata": {},
   "outputs": [],
   "source": [
    "topics = [\n",
    "    '/devices/spartonm2/ahrs',\n",
    "    '/devices/dvl/instrument/raw',\n",
    "    '/devices/dvl/pd0',\n",
    "    '/devices/dvl/ranges',\n",
    "    '/devices/dvl/dvl',\n",
    "    '/extctl/sensors/m_depth',\n",
    "    '/extctl/sensors/m_altitude',\n",
    "    '/extctl/sensors/m_altimeter_status',\n",
    "    '/extctl/sensors/m_dist_to_wpt',\n",
    "    '/extctl/sensors/m_gps_lat',\n",
    "    '/extctl/sensors/m_gps_lon',\n",
    "    '/extctl/sensors/m_lat',\n",
    "    '/extctl/sensors/m_lon',\n",
    "    '/extctl/sensors/m_pitch',\n",
    "    '/extctl/sensors/m_present_time',\n",
    "    '/extctl/sensors/m_roll',\n",
    "    '/extctl/sensors/m_water_depth',\n",
    "    '/tritech_micron_beam',\n",
    "    '/tritech_micron_data',\n",
    "    '/ctd/data',\n",
    "    '/battery_pack/data'\n",
    "]"
   ]
  },
  {
   "cell_type": "markdown",
   "metadata": {},
   "source": [
    "### Parse Bags"
   ]
  },
  {
   "cell_type": "code",
   "execution_count": 176,
   "metadata": {},
   "outputs": [
    {
     "name": "stdout",
     "output_type": "stream",
     "text": [
      "[INFO]  Data folder /home/gburgess/dvl-nav/data/field_data/buzz_bay/dec_15/rosbags/2021-12-15-14-02-14_1 already exists. Not creating.\n",
      "No data on the topic:/ctd/data\n",
      "[INFO]  Data folder /home/gburgess/dvl-nav/data/field_data/buzz_bay/dec_15/rosbags/2021-12-15-14-55-15_0 already exists. Not creating.\n",
      "[INFO]  Successfully created the data folder /home/gburgess/dvl-nav/data/field_data/buzz_bay/dec_15/rosbags/2021-12-15-15-00-30_1.\n",
      "[INFO]  Successfully created the data folder /home/gburgess/dvl-nav/data/field_data/buzz_bay/dec_15/rosbags/2021-12-15-16-13-37_0.\n",
      "[INFO]  Successfully created the data folder /home/gburgess/dvl-nav/data/field_data/buzz_bay/dec_15/rosbags/2021-12-15-16-18-55_1.\n",
      "No data on the topic:/ctd/data\n",
      "[INFO]  Successfully created the data folder /home/gburgess/dvl-nav/data/field_data/buzz_bay/dec_15/rosbags/2021-12-15-16-23-59_2.\n",
      "No data on the topic:/ctd/data\n",
      "[INFO]  Successfully created the data folder /home/gburgess/dvl-nav/data/field_data/buzz_bay/dec_15/rosbags/2021-12-15-16-29-02_3.\n",
      "No data on the topic:/ctd/data\n",
      "[INFO]  Successfully created the data folder /home/gburgess/dvl-nav/data/field_data/buzz_bay/dec_15/rosbags/2021-12-15-16-34-06_4.\n",
      "No data on the topic:/ctd/data\n",
      "[INFO]  Successfully created the data folder /home/gburgess/dvl-nav/data/field_data/buzz_bay/dec_15/rosbags/2021-12-15-16-39-09_5.\n",
      "No data on the topic:/ctd/data\n",
      "[INFO]  Successfully created the data folder /home/gburgess/dvl-nav/data/field_data/buzz_bay/dec_15/rosbags/2021-12-15-16-43-37_6.\n",
      "[INFO]  Successfully created the data folder /home/gburgess/dvl-nav/data/field_data/buzz_bay/dec_15/rosbags/2021-12-15-16-48-41_7.\n",
      "[INFO]  Successfully created the data folder /home/gburgess/dvl-nav/data/field_data/buzz_bay/dec_15/rosbags/2021-12-15-16-53-44_8.\n",
      "[INFO]  Successfully created the data folder /home/gburgess/dvl-nav/data/field_data/buzz_bay/dec_15/rosbags/2021-12-15-16-58-47_9.\n",
      "[INFO]  Successfully created the data folder /home/gburgess/dvl-nav/data/field_data/buzz_bay/dec_15/rosbags/2021-12-15-17-03-50_10.\n",
      "[INFO]  Successfully created the data folder /home/gburgess/dvl-nav/data/field_data/buzz_bay/dec_15/rosbags/2021-12-15-17-08-53_11.\n",
      "[INFO]  Successfully created the data folder /home/gburgess/dvl-nav/data/field_data/buzz_bay/dec_15/rosbags/2021-12-15-17-13-37_12.\n",
      "[INFO]  Successfully created the data folder /home/gburgess/dvl-nav/data/field_data/buzz_bay/dec_15/rosbags/2021-12-15-17-18-40_13.\n",
      "[INFO]  Successfully created the data folder /home/gburgess/dvl-nav/data/field_data/buzz_bay/dec_15/rosbags/2021-12-15-17-23-43_14.\n",
      "[INFO]  Successfully created the data folder /home/gburgess/dvl-nav/data/field_data/buzz_bay/dec_15/rosbags/2021-12-15-17-28-47_15.\n",
      "[INFO]  Successfully created the data folder /home/gburgess/dvl-nav/data/field_data/buzz_bay/dec_15/rosbags/2021-12-15-17-33-50_16.\n",
      "[INFO]  Successfully created the data folder /home/gburgess/dvl-nav/data/field_data/buzz_bay/dec_15/rosbags/2021-12-15-17-38-53_17.\n",
      "[INFO]  Successfully created the data folder /home/gburgess/dvl-nav/data/field_data/buzz_bay/dec_15/rosbags/2021-12-15-17-43-37_18.\n",
      "[INFO]  Successfully created the data folder /home/gburgess/dvl-nav/data/field_data/buzz_bay/dec_15/rosbags/2021-12-15-17-48-40_19.\n",
      "No data on the topic:/ctd/data\n",
      "[INFO]  Successfully created the data folder /home/gburgess/dvl-nav/data/field_data/buzz_bay/dec_15/rosbags/2021-12-15-17-53-44_20.\n",
      "No data on the topic:/ctd/data\n",
      "[INFO]  Successfully created the data folder /home/gburgess/dvl-nav/data/field_data/buzz_bay/dec_15/rosbags/2021-12-15-17-58-48_21.\n",
      "No data on the topic:/ctd/data\n",
      "[INFO]  Successfully created the data folder /home/gburgess/dvl-nav/data/field_data/buzz_bay/dec_15/rosbags/2021-12-15-18-03-52_22.\n",
      "No data on the topic:/ctd/data\n",
      "[INFO]  Successfully created the data folder /home/gburgess/dvl-nav/data/field_data/buzz_bay/dec_15/rosbags/2021-12-15-18-08-55_23.\n",
      "[INFO]  Successfully created the data folder /home/gburgess/dvl-nav/data/field_data/buzz_bay/dec_15/rosbags/2021-12-15-18-13-37_24.\n"
     ]
    }
   ],
   "source": [
    "# Initialize Dictionary to hold filepaths to generated CSVs\n",
    "csv_dic = {}\n",
    "for t in topics:\n",
    "    csv_dic[t] = []\n",
    "\n",
    "# Parse out Data by topic and generate set of names\n",
    "for bag in bags_raw:\n",
    "    b=bagreader(filepath+bag)\n",
    "    for t in topics:\n",
    "        data = b.message_by_topic(t)\n",
    "        if type(data) == str:\n",
    "            csv_dic[t].append(data)"
   ]
  },
  {
   "cell_type": "code",
   "execution_count": 188,
   "metadata": {},
   "outputs": [
    {
     "name": "stdout",
     "output_type": "stream",
     "text": [
      "/devices/spartonm2/ahrs\n",
      "/devices/dvl/instrument/raw\n",
      "/devices/dvl/pd0\n",
      "/devices/dvl/ranges\n",
      "/devices/dvl/dvl\n",
      "/extctl/sensors/m_depth\n",
      "/extctl/sensors/m_altitude\n",
      "/extctl/sensors/m_altimeter_status\n",
      "/extctl/sensors/m_dist_to_wpt\n",
      "/extctl/sensors/m_gps_lat\n",
      "/extctl/sensors/m_gps_lon\n",
      "/extctl/sensors/m_lat\n",
      "/extctl/sensors/m_lon\n",
      "/extctl/sensors/m_pitch\n",
      "/extctl/sensors/m_present_time\n",
      "/extctl/sensors/m_roll\n",
      "/extctl/sensors/m_water_depth\n",
      "/tritech_micron_beam\n",
      "/tritech_micron_data\n",
      "/ctd/data\n",
      "/battery_pack/data\n"
     ]
    }
   ],
   "source": [
    "names = []\n",
    "for key in csv_dic:\n",
    "    print(key)\n",
    "    names.append(key.replace('/','-')[1:])\n"
   ]
  },
  {
   "cell_type": "code",
   "execution_count": 191,
   "metadata": {},
   "outputs": [],
   "source": [
    "# Concatenate all csvs into one dataframe per topic\n",
    "final_dic = {}\n",
    "n_count=0\n",
    "for key in csv_dic:\n",
    "    count = 0\n",
    "    temp_dic = {}\n",
    "    for csv in csv_dic[key]:\n",
    "        temp_dic[key+str(count)] = (pd.read_csv(csv, on_bad_lines='skip'))\n",
    "        count += 1\n",
    "    temp_df = pd.concat(temp_dic)\n",
    "    new_df = temp_df.reset_index()\n",
    "    new_df = new_df.iloc[:, 2:]\n",
    "    final_dic[names[n_count]] = new_df\n",
    "    n_count += 1"
   ]
  },
  {
   "cell_type": "code",
   "execution_count": 192,
   "metadata": {},
   "outputs": [],
   "source": [
    "# Save final CSVs to output folder\n",
    "for key in final_dic:\n",
    "    final_dic[key].to_csv(filepath+'rosbag_output/'+str(key)+'.csv')"
   ]
  }
 ],
 "metadata": {
  "kernelspec": {
   "display_name": "Python 3",
   "language": "python",
   "name": "python3"
  },
  "language_info": {
   "codemirror_mode": {
    "name": "ipython",
    "version": 3
   },
   "file_extension": ".py",
   "mimetype": "text/x-python",
   "name": "python",
   "nbconvert_exporter": "python",
   "pygments_lexer": "ipython3",
   "version": "3.8.10"
  }
 },
 "nbformat": 4,
 "nbformat_minor": 4
}
