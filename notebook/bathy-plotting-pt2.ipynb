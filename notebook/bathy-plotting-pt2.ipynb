{
 "cells": [
  {
   "cell_type": "markdown",
   "metadata": {},
   "source": [
    "## Notes on Conversion from Lat/Lon Coordinates to UTM coordinates\n",
    "\n",
    "1. Lat/Lon given with uniform spacing in terms of degrees. This is misleading because this does not correspond to uniform spacing spatially. (without uniform spacing spatially it is difficult to compute gradients / orientations) \n",
    "2. There is a nonlinearity in the mapping between Lat/Lon and UTM northings and eastings. Given a constant value for Lat (with varying Lon), both the easting and northing change (instead of just easting). This makes the conversion to uniform spacing non-trivial because you cannot just \"stretch\" the bathymetry array\n",
    "3. It is inefficient to store all values in the resulting UTM coordinate matrix. Since the bathymetry is provided as 10m gridding, the input (dense) matrix is ~$2*10^6$ entries. For the full spatial extent in UTM with 1m spacing, the sparse matrix would be of size ~$2*10^8$ entries, or a factor of 100 times larger than the input -- this is computationally inefficient. This motivates the use of a pandas DataFrame instead of using default numpy array because Pandas DataFrame you explicitly keep track of x-coordinate and y-coordinate as seperate columns (still sparse) and still have ability to perform filtering on features (such as on depth/slope/orientation/position)\n"
   ]
  },
  {
   "cell_type": "markdown",
   "metadata": {},
   "source": [
    "# Plotting Bathymetric Data in Python"
   ]
  },
  {
   "cell_type": "code",
   "execution_count": 28,
   "metadata": {},
   "outputs": [],
   "source": [
    "import seaborn as sns \n",
    "import numpy as np\n",
    "import datetime\n",
    "import rasterio as rio\n",
    "import importlib\n",
    "import pandas as pd\n",
    "# import earthpy as et\n",
    "# import earthpy.plot as ep\n",
    "import scipy\n",
    "import scipy.signal\n",
    "import os\n",
    "import sys\n",
    "import utm\n",
    "\n",
    "sys.path.insert(1, os.path.join(sys.path[0], '../data'))\n",
    "sys.path.append(os.path.join(sys.path[0], '../'))\n",
    "\n",
    "import BathymetryMap\n",
    "import bathy_meta_data\n",
    "from matplotlib import pyplot as plt \n",
    "from PIL import Image\n",
    "def reload_modules():\n",
    "    importlib.reload(bathy_meta_data)\n",
    "    importlib.reload(BathymetryMap)"
   ]
  },
  {
   "cell_type": "markdown",
   "metadata": {},
   "source": [
    "## Load Data"
   ]
  },
  {
   "cell_type": "code",
   "execution_count": 48,
   "metadata": {},
   "outputs": [
    {
     "name": "stdout",
     "output_type": "stream",
     "text": [
      "25.366617000001263 25.516716996209418 36.633349996631296 36.49995000000126\n"
     ]
    },
    {
     "data": {
      "text/plain": [
       "(0.00011184798525197843, 9.019607615282796e-05)"
      ]
     },
     "execution_count": 48,
     "metadata": {},
     "output_type": "execute_result"
    }
   ],
   "source": [
    "reload_modules()\n",
    "meta_dict = bathy_meta_data.BathyData[\"Kolumbo_full_AR\"]\n",
    "# meta_dict = bathy_meta_data.BathyData[\"Kolumbo\"]\n",
    "# meta_dict = bathy_meta_data.BathyData[\"Kolumbo_full\"]\n",
    "bathy     = BathymetryMap.BathymetryMap(meta_dict=meta_dict)\n",
    "\n",
    "bathy.parse_bathy_file()\n",
    "\n",
    "print(bathy.left, bathy.right, bathy.top, bathy.bottom)\n",
    "\n",
    "delta_lon = (bathy.right - bathy.left)/bathy.width\n",
    "delta_lat = (bathy.top   - bathy.bottom)/bathy.height\n",
    "\n",
    "delta_lon, delta_lat"
   ]
  },
  {
   "cell_type": "markdown",
   "metadata": {},
   "source": [
    "---\n",
    "## Data Parsing "
   ]
  },
  {
   "cell_type": "code",
   "execution_count": 49,
   "metadata": {},
   "outputs": [
    {
     "name": "stdout",
     "output_type": "stream",
     "text": [
      "13672\n",
      "15017\n",
      "205312424\n"
     ]
    }
   ],
   "source": [
    "x_coords = []\n",
    "y_coords = [] \n",
    "\n",
    "corners =  [\n",
    "    (bathy.top,    bathy.left), \n",
    "    (bathy.bottom, bathy.left), \n",
    "    (bathy.bottom, bathy.right),\n",
    "    (bathy.top,    bathy.right)\n",
    "]\n",
    "\n",
    "for (lat,lon) in corners:\n",
    "    x,y,_,_ = utm.from_latlon(lat,lon)\n",
    "    x_coords.append(int(np.round(x)))\n",
    "    y_coords.append(int(np.round(y)))\n",
    "\n",
    "x_min = min(x_coords)\n",
    "x_max = max(x_coords)\n",
    "y_min = min(y_coords)\n",
    "y_max = max(y_coords)\n",
    "x_rng = x_max - x_min \n",
    "y_rng = y_max - y_min\n",
    "print(x_rng)\n",
    "print(y_rng)\n",
    "print(x_rng*y_rng)"
   ]
  },
  {
   "cell_type": "markdown",
   "metadata": {},
   "source": [
    "## Calculate Variance of Factor Maps"
   ]
  },
  {
   "cell_type": "code",
   "execution_count": 50,
   "metadata": {},
   "outputs": [],
   "source": [
    "# if M is (nxn), function returns a (nxn) matrix where each point represents the variance of the original point based on 8 surrounding points\n",
    "def calculateVar_pts_in_matrix(M):\n",
    "    var_matrix = np.zeros((len(M[:,0]), len(M[0,:])))\n",
    "    for i in range(1,len(M[:,0])-1):       #for all rows except first and last\n",
    "        for j in range(1,len(M[0,:])-1):   #for all columns except first and last\n",
    "            pts = np.array([ M[i,j] , M[i+1, j] , M[i+1, j-1], M[i+1,j+1], M[i,j+1], M[i, j-1], M[i-1, j], M[i-1, j+1], M[i-1, j-1]])\n",
    "            var_matrix[i,j] = np.var(pts)\n",
    "    #Set Equal edges to inside rows\n",
    "    var_matrix[:,0] = var_matrix[:,1]\n",
    "    var_matrix[:,len(M[0,:])-1] = var_matrix[:,len(M[0,:]) - 2]\n",
    "    var_matrix[0,:] = var_matrix[1,:]\n",
    "    var_matrix[len(M[:,0])-1, :] = var_matrix[len(M[:,0]) - 2,:]\n",
    "    return(var_matrix)"
   ]
  },
  {
   "cell_type": "markdown",
   "metadata": {},
   "source": [
    "Orientation converted to radians before calculating variance because otherwise the range of -180 deg to 180 deg results in extremely large variances"
   ]
  },
  {
   "cell_type": "code",
   "execution_count": 52,
   "metadata": {},
   "outputs": [],
   "source": [
    "depth_var = calculateVar_pts_in_matrix(bathy.depth)\n",
    "slope_var = calculateVar_pts_in_matrix(bathy.slope)\n",
    "orient_var = calculateVar_pts_in_matrix(bathy.orient*np.pi/180)\n",
    "\n"
   ]
  },
  {
   "cell_type": "code",
   "execution_count": 53,
   "metadata": {},
   "outputs": [
    {
     "name": "stdout",
     "output_type": "stream",
     "text": [
      "(1479, 1342)\n",
      "(1479, 1342)\n",
      "(1479, 1342)\n",
      "(1479, 1342)\n",
      "(1479, 1342)\n",
      "(1479, 1342)\n"
     ]
    }
   ],
   "source": [
    "print(np.shape(bathy.depth))\n",
    "print(np.shape(bathy.slope))\n",
    "print(np.shape(bathy.orient))\n",
    "print(np.shape(depth_var))\n",
    "print(np.shape(slope_var))\n",
    "print(np.shape(orient_var))"
   ]
  },
  {
   "cell_type": "markdown",
   "metadata": {},
   "source": [
    "## Package and Save Data"
   ]
  },
  {
   "cell_type": "code",
   "execution_count": 54,
   "metadata": {},
   "outputs": [],
   "source": [
    "utm_x_list      = []\n",
    "utm_y_list      = [] \n",
    "depth_list      = []\n",
    "slope_list      = []\n",
    "orient_list     = []\n",
    "\n",
    "depth_var_list  = []\n",
    "slope_var_list  = []\n",
    "orient_var_list = []\n",
    "\n",
    "# j = 0       -->  top side \n",
    "# j = height  -->  bottom side\n",
    "# i = 0       -->  left side \n",
    "# i = width   -->  right side\n",
    "for i in range(bathy.width):\n",
    "    for j in range(bathy.height):\n",
    "        # extract relevant variables from the bathymetry array\n",
    "        lat = bathy.top  + ((bathy.bottom-bathy.top) /bathy.height)*j\n",
    "        lon = bathy.left + ((bathy.right -bathy.left)/bathy.width) *i\n",
    "        utm_x, utm_y, _, _ = utm.from_latlon(lat, lon)\n",
    "        cur_depth  = bathy.depth[j, i]\n",
    "        cur_slope  = bathy.slope[j, i]\n",
    "        cur_orient = bathy.orient[j, i]\n",
    "        \n",
    "        cur_depth_var  = depth_var[j, i]\n",
    "        cur_slope_var  = slope_var[j, i]\n",
    "        cur_orient_var = orient_var[j, i]\n",
    "        \n",
    "        utm_x_list.append(utm_x)\n",
    "        utm_y_list.append(utm_y)\n",
    "        depth_list.append(cur_depth)\n",
    "        slope_list.append(cur_slope)\n",
    "        orient_list.append(cur_orient)\n",
    "        depth_var_list.append(cur_depth_var)\n",
    "        slope_var_list.append(cur_slope_var)\n",
    "        orient_var_list.append(cur_orient_var)\n",
    "#     print(i/bathy.width)"
   ]
  },
  {
   "cell_type": "code",
   "execution_count": 55,
   "metadata": {},
   "outputs": [],
   "source": [
    "bathy_data = {\n",
    "    'utm_x_list'  : utm_x_list,\n",
    "    'utm_y_list'  : utm_y_list,\n",
    "    'depth_list'  : depth_list,\n",
    "    'slope_list'  : slope_list,\n",
    "    'orient_list' : orient_list,\n",
    "    'depth_var'   : depth_var_list,\n",
    "    'slope_var'   : slope_var_list,\n",
    "    'orient_var'  : orient_var_list,\n",
    "}\n",
    "bathy_df = pd.DataFrame.from_dict(bathy_data)"
   ]
  },
  {
   "cell_type": "code",
   "execution_count": 56,
   "metadata": {},
   "outputs": [],
   "source": [
    "y_min = 4.041e6\n",
    "y_max = 4.051e6\n",
    "x_min = 3.610e5\n",
    "x_max = 3.670e5\n",
    "\n",
    "\n",
    "bathy_sub_df = bathy_df[(bathy_df.utm_x_list < x_max) & \n",
    "                        (bathy_df.utm_x_list > x_min) &\n",
    "                        (bathy_df.utm_y_list < y_max) & \n",
    "                        (bathy_df.utm_y_list > y_min)]\n",
    "\n",
    "# ts.df[(ts.df.btm_beam0_range < danger) & \n",
    "#     (ts.df.btm_beam1_range < danger) & \n",
    "#     (ts.df.btm_beam2_range < danger) & \n",
    "#     (ts.df.btm_beam3_range < danger)]"
   ]
  },
  {
   "cell_type": "code",
   "execution_count": 57,
   "metadata": {},
   "outputs": [
    {
     "data": {
      "text/html": [
       "<div>\n",
       "<style scoped>\n",
       "    .dataframe tbody tr th:only-of-type {\n",
       "        vertical-align: middle;\n",
       "    }\n",
       "\n",
       "    .dataframe tbody tr th {\n",
       "        vertical-align: top;\n",
       "    }\n",
       "\n",
       "    .dataframe thead th {\n",
       "        text-align: right;\n",
       "    }\n",
       "</style>\n",
       "<table border=\"1\" class=\"dataframe\">\n",
       "  <thead>\n",
       "    <tr style=\"text-align: right;\">\n",
       "      <th></th>\n",
       "      <th>utm_x_list</th>\n",
       "      <th>utm_y_list</th>\n",
       "      <th>depth_list</th>\n",
       "      <th>slope_list</th>\n",
       "      <th>orient_list</th>\n",
       "      <th>depth_var</th>\n",
       "      <th>slope_var</th>\n",
       "      <th>orient_var</th>\n",
       "    </tr>\n",
       "  </thead>\n",
       "  <tbody>\n",
       "    <tr>\n",
       "      <th>1052002</th>\n",
       "      <td>361007.683779</td>\n",
       "      <td>4.050991e+06</td>\n",
       "      <td>422.056488</td>\n",
       "      <td>2.577596</td>\n",
       "      <td>119.823788</td>\n",
       "      <td>0.143489</td>\n",
       "      <td>0.479790</td>\n",
       "      <td>0.817928</td>\n",
       "    </tr>\n",
       "    <tr>\n",
       "      <th>1052003</th>\n",
       "      <td>361007.521966</td>\n",
       "      <td>4.050981e+06</td>\n",
       "      <td>422.033447</td>\n",
       "      <td>2.973290</td>\n",
       "      <td>58.863380</td>\n",
       "      <td>0.166843</td>\n",
       "      <td>0.620163</td>\n",
       "      <td>0.752791</td>\n",
       "    </tr>\n",
       "    <tr>\n",
       "      <th>1052004</th>\n",
       "      <td>361007.360153</td>\n",
       "      <td>4.050971e+06</td>\n",
       "      <td>421.443512</td>\n",
       "      <td>2.725101</td>\n",
       "      <td>51.267164</td>\n",
       "      <td>0.148585</td>\n",
       "      <td>0.635052</td>\n",
       "      <td>1.714364</td>\n",
       "    </tr>\n",
       "    <tr>\n",
       "      <th>1052005</th>\n",
       "      <td>361007.198340</td>\n",
       "      <td>4.050961e+06</td>\n",
       "      <td>421.315369</td>\n",
       "      <td>1.403043</td>\n",
       "      <td>122.549864</td>\n",
       "      <td>0.063859</td>\n",
       "      <td>0.421853</td>\n",
       "      <td>3.013535</td>\n",
       "    </tr>\n",
       "    <tr>\n",
       "      <th>1052006</th>\n",
       "      <td>361007.036528</td>\n",
       "      <td>4.050951e+06</td>\n",
       "      <td>421.766663</td>\n",
       "      <td>1.529471</td>\n",
       "      <td>175.797249</td>\n",
       "      <td>0.058572</td>\n",
       "      <td>0.803067</td>\n",
       "      <td>4.013524</td>\n",
       "    </tr>\n",
       "    <tr>\n",
       "      <th>...</th>\n",
       "      <td>...</td>\n",
       "      <td>...</td>\n",
       "      <td>...</td>\n",
       "      <td>...</td>\n",
       "      <td>...</td>\n",
       "      <td>...</td>\n",
       "      <td>...</td>\n",
       "      <td>...</td>\n",
       "    </tr>\n",
       "    <tr>\n",
       "      <th>1961092</th>\n",
       "      <td>366999.003728</td>\n",
       "      <td>4.041048e+06</td>\n",
       "      <td>326.323151</td>\n",
       "      <td>2.023454</td>\n",
       "      <td>78.321212</td>\n",
       "      <td>0.073980</td>\n",
       "      <td>0.041654</td>\n",
       "      <td>0.083269</td>\n",
       "    </tr>\n",
       "    <tr>\n",
       "      <th>1961093</th>\n",
       "      <td>366998.849396</td>\n",
       "      <td>4.041038e+06</td>\n",
       "      <td>326.193787</td>\n",
       "      <td>1.963412</td>\n",
       "      <td>63.829211</td>\n",
       "      <td>0.079084</td>\n",
       "      <td>0.057781</td>\n",
       "      <td>0.024612</td>\n",
       "    </tr>\n",
       "    <tr>\n",
       "      <th>1961094</th>\n",
       "      <td>366998.695064</td>\n",
       "      <td>4.041028e+06</td>\n",
       "      <td>325.997650</td>\n",
       "      <td>1.618389</td>\n",
       "      <td>63.812913</td>\n",
       "      <td>0.059650</td>\n",
       "      <td>0.062958</td>\n",
       "      <td>0.057362</td>\n",
       "    </tr>\n",
       "    <tr>\n",
       "      <th>1961095</th>\n",
       "      <td>366998.540733</td>\n",
       "      <td>4.041018e+06</td>\n",
       "      <td>325.924530</td>\n",
       "      <td>1.530675</td>\n",
       "      <td>90.276213</td>\n",
       "      <td>0.047199</td>\n",
       "      <td>0.037224</td>\n",
       "      <td>0.157944</td>\n",
       "    </tr>\n",
       "    <tr>\n",
       "      <th>1961096</th>\n",
       "      <td>366998.386402</td>\n",
       "      <td>4.041008e+06</td>\n",
       "      <td>326.002106</td>\n",
       "      <td>1.775877</td>\n",
       "      <td>117.638860</td>\n",
       "      <td>0.062367</td>\n",
       "      <td>0.189936</td>\n",
       "      <td>0.131446</td>\n",
       "    </tr>\n",
       "  </tbody>\n",
       "</table>\n",
       "<p>598818 rows × 8 columns</p>\n",
       "</div>"
      ],
      "text/plain": [
       "            utm_x_list    utm_y_list  depth_list  slope_list  orient_list  \\\n",
       "1052002  361007.683779  4.050991e+06  422.056488    2.577596   119.823788   \n",
       "1052003  361007.521966  4.050981e+06  422.033447    2.973290    58.863380   \n",
       "1052004  361007.360153  4.050971e+06  421.443512    2.725101    51.267164   \n",
       "1052005  361007.198340  4.050961e+06  421.315369    1.403043   122.549864   \n",
       "1052006  361007.036528  4.050951e+06  421.766663    1.529471   175.797249   \n",
       "...                ...           ...         ...         ...          ...   \n",
       "1961092  366999.003728  4.041048e+06  326.323151    2.023454    78.321212   \n",
       "1961093  366998.849396  4.041038e+06  326.193787    1.963412    63.829211   \n",
       "1961094  366998.695064  4.041028e+06  325.997650    1.618389    63.812913   \n",
       "1961095  366998.540733  4.041018e+06  325.924530    1.530675    90.276213   \n",
       "1961096  366998.386402  4.041008e+06  326.002106    1.775877   117.638860   \n",
       "\n",
       "         depth_var  slope_var  orient_var  \n",
       "1052002   0.143489   0.479790    0.817928  \n",
       "1052003   0.166843   0.620163    0.752791  \n",
       "1052004   0.148585   0.635052    1.714364  \n",
       "1052005   0.063859   0.421853    3.013535  \n",
       "1052006   0.058572   0.803067    4.013524  \n",
       "...            ...        ...         ...  \n",
       "1961092   0.073980   0.041654    0.083269  \n",
       "1961093   0.079084   0.057781    0.024612  \n",
       "1961094   0.059650   0.062958    0.057362  \n",
       "1961095   0.047199   0.037224    0.157944  \n",
       "1961096   0.062367   0.189936    0.131446  \n",
       "\n",
       "[598818 rows x 8 columns]"
      ]
     },
     "execution_count": 57,
     "metadata": {},
     "output_type": "execute_result"
    }
   ],
   "source": [
    "bathy_sub_df"
   ]
  },
  {
   "cell_type": "code",
   "execution_count": null,
   "metadata": {},
   "outputs": [],
   "source": [
    "# bathy_df.copy().append(pd.DataFrame.from_dict(\n",
    "#     {'depth_list'  : 0, \n",
    "#      'orient_list' : 0, \n",
    "#      'utm_x_list'  : 0, \n",
    "#      'utm_y_list'  : 0, \n",
    "#      'orient_list' : 0}))\n",
    "\n",
    "# bathy_df.copy().append(pd.DataFrame([[0,0,0,0,0]], columns=bathy_df.columns))\n",
    "# bathy_df"
   ]
  },
  {
   "cell_type": "code",
   "execution_count": 58,
   "metadata": {},
   "outputs": [],
   "source": [
    "bathy_sub_df.to_csv(\"C:/Users/grego/Dropbox/Kolumbo cruise 2019/zduguid/bathy/Kolumbo-10m-sub-withVar-orientInRad.csv\")\n",
    "# 'C:/Users/grego/Dropbox/Kolumbo cruise 2019/zduguid/bathy/Kolumbo-10m-utm-sub.csv'"
   ]
  },
  {
   "cell_type": "markdown",
   "metadata": {},
   "source": [
    "## Plotting"
   ]
  },
  {
   "cell_type": "code",
   "execution_count": null,
   "metadata": {},
   "outputs": [],
   "source": [
    "fig,ax=plt.subplots(figsize=(10,10))\n",
    "sns.scatterplot(\n",
    "    bathy_sub_df.utm_x_list,\n",
    "    bathy_sub_df.utm_y_list,\n",
    "    bathy_sub_df.slope_list,\n",
    "#     palette='viridis_r',\n",
    "    palette='inferno_r',\n",
    "#     palette='twilight_shifted',\n",
    "    linewidth=0,\n",
    "    legend=False)\n",
    "plt.axis('equal')\n",
    "#plt.savefig('/Users/zduguid/Desktop/fig/tmp.png')\n",
    "#plt.close()"
   ]
  },
  {
   "cell_type": "code",
   "execution_count": null,
   "metadata": {},
   "outputs": [],
   "source": [
    "# bathy.plot_depth_map()\n",
    "# bathy.plot_slope_map()\n",
    "# bathy.plot_orientation_map()\n",
    "# bathy.plot_three_factors()\n",
    "bathy.plot_depth_contours()"
   ]
  },
  {
   "cell_type": "code",
   "execution_count": null,
   "metadata": {},
   "outputs": [],
   "source": [
    "# # plot seafloor depth\n",
    "# sns.set(font_scale = 1.5)\n",
    "# fig, ax = plt.subplots(figsize=(15,8))\n",
    "# ep.plot_bands(\n",
    "#     -bathy, \n",
    "#     cmap='viridis_r',\n",
    "#     title=\"Depth Map [m]\",\n",
    "#     ax=ax,\n",
    "#     scale=False\n",
    "# )"
   ]
  },
  {
   "cell_type": "code",
   "execution_count": null,
   "metadata": {},
   "outputs": [],
   "source": [
    "def get_utm_coords_from_bathy_lat_lon(lat, lon): \n",
    "    \"\"\"TODO\n",
    "    \"\"\"\n",
    "    utm_pos  = utm.from_latlon(lat, lon)\n",
    "    easting  = round(utm_pos[0],2)\n",
    "    northing = round(utm_pos[1],2)\n",
    "    zone     = utm_pos[2]\n",
    "    return(easting, northing, zone)\n",
    "\n",
    "get_utm_coords_from_bathy_lat_lon(bathy_l, bathy_b)\n",
    "\n",
    "# bathy_l, bathy_r, bathy_b, bathy_t"
   ]
  },
  {
   "cell_type": "code",
   "execution_count": null,
   "metadata": {},
   "outputs": [],
   "source": [
    "\n",
    "bathy[bathy>=0]=np.nan\n",
    "bathy.shape"
   ]
  },
  {
   "cell_type": "code",
   "execution_count": null,
   "metadata": {},
   "outputs": [],
   "source": [
    "scharr = np.array([[ +3 -3j,  +10    , +3 +3j],\n",
    "                   [    -10j,   0    ,    +10j],\n",
    "                   [ -3 -3j,  -10    , -3 +3j]]) / 32  # Gx + j*Gy"
   ]
  },
  {
   "cell_type": "code",
   "execution_count": null,
   "metadata": {},
   "outputs": [],
   "source": [
    "bathy_grad = scipy.signal.convolve2d(bathy, scharr, boundary='symm', mode='same')/(np.max([delta_x,delta_y]))"
   ]
  },
  {
   "cell_type": "code",
   "execution_count": null,
   "metadata": {},
   "outputs": [],
   "source": [
    "bathy_slope  = np.arctan(np.absolute(bathy_grad))*RAD_TO_DEG"
   ]
  },
  {
   "cell_type": "code",
   "execution_count": null,
   "metadata": {},
   "outputs": [],
   "source": [
    "bathy_orient = np.angle(bathy_grad)*RAD_TO_DEG"
   ]
  },
  {
   "cell_type": "markdown",
   "metadata": {},
   "source": [
    "## Plot Environment Data"
   ]
  },
  {
   "cell_type": "code",
   "execution_count": null,
   "metadata": {},
   "outputs": [],
   "source": [
    "# sns.set(font_scale = 1.5)\n",
    "# fig, ax = plt.subplots(2,3, figsize=(15,8), gridspec_kw={'height_ratios': [2, 1]})\n",
    "# fig.subplots_adjust(hspace=.4)\n",
    "# fig.subplots_adjust(wspace=.3)\n",
    "# plt.suptitle(data['title'], fontweight='bold', fontsize=28)\n",
    "\n",
    "\n",
    "# # plot seafloor depth\n",
    "# ep.plot_bands(\n",
    "#     -bathy, \n",
    "#     cmap='viridis_r',\n",
    "#     title=\"Depth Map [m]\",\n",
    "#     ax=ax[0,0],\n",
    "#     scale=False\n",
    "# )\n",
    "\n",
    "\n",
    "# # plot seafloor slope\n",
    "# ep.plot_bands(\n",
    "#     bathy_slope, \n",
    "#     cmap='inferno_r',\n",
    "#     title='Gradiant [deg]',\n",
    "#     ax=ax[0,1],\n",
    "#     scale=False\n",
    "# )\n",
    "\n",
    "\n",
    "# # plot seafloor slope orientation \n",
    "# ep.plot_bands(\n",
    "#     bathy_orient, \n",
    "#     cmap='twilight_shifted',\n",
    "#     title='Orientation [deg]',\n",
    "#     ax=ax[0,2],\n",
    "#     scale=False\n",
    "# )\n",
    "\n",
    "\n",
    "# sns.kdeplot(-bathy.flatten(),       shade=True, ax=ax[1,0], linewidth=3)\n",
    "# sns.kdeplot(bathy_slope.flatten(),  shade=True, ax=ax[1,1], linewidth=3)\n",
    "# sns.kdeplot(bathy_orient.flatten(), shade=True, ax=ax[1,2], linewidth=3)\n",
    "# ax[1,0].set_xlabel('Depth [m]')\n",
    "# ax[1,1].set_xlabel('Slope [deg]')\n",
    "# ax[1,2].set_xlabel('Orientation [deg]')\n",
    "# xticks  = np.arange(bathy_w/data['num_ticks']/2, bathy_w, bathy_w/data['num_ticks'])\n",
    "# xlabels = [data['ticks'] % np.round((bathy_r-bathy_l)*(i/bathy_w) + bathy_l, 5) for i in xticks]\n",
    "# yticks  = np.arange(bathy_h/data['num_ticks']/2, bathy_h, bathy_h/data['num_ticks'])\n",
    "# ylabels = [data['ticks'] % np.round((bathy_b-bathy_t)*(i/bathy_h) + bathy_t, 5) for i in yticks]\n",
    "\n",
    "\n",
    "# # plot axis labels \n",
    "# for i in range(3):\n",
    "#     ax[0,i].set_xticks(xticks)\n",
    "#     ax[0,i].set_xticklabels(xlabels)\n",
    "#     ax[0,i].set_yticks(yticks)\n",
    "#     if i==0:\n",
    "#         ax[0,i].set_yticklabels(ylabels)\n",
    "#         ax[0,i].set_ylabel(data['ylabel'])\n",
    "#         ax[1,i].set_ylabel('Kernel Density')\n",
    "#     else:\n",
    "#         ax[0,i].set_yticklabels(['' for _ in ylabels])\n",
    "#     ax[0,i].set_xlabel(data['xlabel'])\n",
    "#     ax[0,i].grid(linewidth=1, alpha=1, color='lavenderblush')\n",
    "# plt.savefig('/Users/zduguid/Desktop/fig/tmp.png')\n",
    "# print('>> Plotting Complete')\n",
    "# plt.show()"
   ]
  }
 ],
 "metadata": {
  "kernelspec": {
   "display_name": "Python 3",
   "language": "python",
   "name": "python3"
  },
  "language_info": {
   "codemirror_mode": {
    "name": "ipython",
    "version": 3
   },
   "file_extension": ".py",
   "mimetype": "text/x-python",
   "name": "python",
   "nbconvert_exporter": "python",
   "pygments_lexer": "ipython3",
   "version": "3.7.8"
  }
 },
 "nbformat": 4,
 "nbformat_minor": 4
}
