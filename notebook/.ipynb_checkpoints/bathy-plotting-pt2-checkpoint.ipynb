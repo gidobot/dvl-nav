{
 "cells": [
  {
   "cell_type": "markdown",
   "metadata": {},
   "source": [
    "## Notes on Conversion from Lat/Lon Coordinates to UTM coordinates\n",
    "\n",
    "1. Lat/Lon given with uniform spacing in terms of degrees. This is misleading because this does not correspond to uniform spacing spatially. (without uniform spacing spatially it is difficult to compute gradients / orientations) \n",
    "2. There is a nonlinearity in the mapping between Lat/Lon and UTM northings and eastings. Given a constant value for Lat (with varying Lon), both the easting and northing change (instead of just easting). This makes the conversion to uniform spacing non-trivial because you cannot just \"stretch\" the bathymetry array\n",
    "3. It is inefficient to store all values in the resulting UTM coordinate matrix. Since the bathymetry is provided as 10m gridding, the input (dense) matrix is ~$2*10^6$ entries. For the full spatial extent in UTM with 1m spacing, the sparse matrix would be of size ~$2*10^8$ entries, or a factor of 100 times larger than the input -- this is computationally inefficient. This motivates the use of a pandas DataFrame instead of using default numpy array because Pandas DataFrame you explicitly keep track of x-coordinate and y-coordinate as seperate columns (still sparse) and still have ability to perform filtering on features (such as on depth/slope/orientation/position)\n"
   ]
  },
  {
   "cell_type": "markdown",
   "metadata": {},
   "source": [
    "# Plotting Bathymetric Data in Python"
   ]
  },
  {
   "cell_type": "code",
   "execution_count": 28,
   "metadata": {},
   "outputs": [],
   "source": [
    "import seaborn as sns \n",
    "import numpy as np\n",
    "import datetime\n",
    "import rasterio as rio\n",
    "import importlib\n",
    "import pandas as pd\n",
    "# import earthpy as et\n",
    "# import earthpy.plot as ep\n",
    "import scipy\n",
    "import scipy.signal\n",
    "import os\n",
    "import sys\n",
    "import utm\n",
    "\n",
    "sys.path.insert(1, os.path.join(sys.path[0], '../data'))\n",
    "sys.path.append(os.path.join(sys.path[0], '../'))\n",
    "\n",
    "import BathymetryMap\n",
    "import bathy_meta_data\n",
    "from matplotlib import pyplot as plt \n",
    "from PIL import Image\n",
    "def reload_modules():\n",
    "    importlib.reload(bathy_meta_data)\n",
    "    importlib.reload(BathymetryMap)"
   ]
  },
  {
   "cell_type": "markdown",
   "metadata": {},
   "source": [
    "## Load Data"
   ]
  },
  {
   "cell_type": "code",
   "execution_count": 34,
   "metadata": {},
   "outputs": [
    {
     "name": "stdout",
     "output_type": "stream",
     "text": [
      "25.444910589677647 25.512019380828836 36.633349996631296 36.56308725330824\n"
     ]
    },
    {
     "data": {
      "text/plain": [
       "(0.00011184798525198048, 9.019607615283189e-05)"
      ]
     },
     "execution_count": 34,
     "metadata": {},
     "output_type": "execute_result"
    }
   ],
   "source": [
    "reload_modules()\n",
    "# meta_dict = bathy_meta_data.BathyData[\"Kolumbo_full_AR\"]\n",
    "meta_dict = bathy_meta_data.BathyData[\"Kolumbo\"]\n",
    "# meta_dict = bathy_meta_data.BathyData[\"Kolumbo_full\"]\n",
    "bathy     = BathymetryMap.BathymetryMap(meta_dict=meta_dict)\n",
    "\n",
    "bathy.parse_bathy_file()\n",
    "\n",
    "print(bathy.left, bathy.right, bathy.top, bathy.bottom)\n",
    "\n",
    "delta_lon = (bathy.right - bathy.left)/bathy.width\n",
    "delta_lat = (bathy.top   - bathy.bottom)/bathy.height\n",
    "\n",
    "delta_lon, delta_lat"
   ]
  },
  {
   "cell_type": "markdown",
   "metadata": {},
   "source": [
    "---\n",
    "## Data Parsing "
   ]
  },
  {
   "cell_type": "code",
   "execution_count": 35,
   "metadata": {},
   "outputs": [
    {
     "name": "stdout",
     "output_type": "stream",
     "text": [
      "6126\n",
      "7890\n",
      "48334140\n"
     ]
    }
   ],
   "source": [
    "x_coords = []\n",
    "y_coords = [] \n",
    "\n",
    "corners =  [\n",
    "    (bathy.top,    bathy.left), \n",
    "    (bathy.bottom, bathy.left), \n",
    "    (bathy.bottom, bathy.right),\n",
    "    (bathy.top,    bathy.right)\n",
    "]\n",
    "\n",
    "for (lat,lon) in corners:\n",
    "    x,y,_,_ = utm.from_latlon(lat,lon)\n",
    "    x_coords.append(int(np.round(x)))\n",
    "    y_coords.append(int(np.round(y)))\n",
    "\n",
    "x_min = min(x_coords)\n",
    "x_max = max(x_coords)\n",
    "y_min = min(y_coords)\n",
    "y_max = max(y_coords)\n",
    "x_rng = x_max - x_min \n",
    "y_rng = y_max - y_min\n",
    "print(x_rng)\n",
    "print(y_rng)\n",
    "print(x_rng*y_rng)"
   ]
  },
  {
   "cell_type": "markdown",
   "metadata": {},
   "source": [
    "## Calculate Variance of Factor Maps"
   ]
  },
  {
   "cell_type": "code",
   "execution_count": 36,
   "metadata": {},
   "outputs": [],
   "source": [
    "# if M is (nxn), function returns a (nxn) matrix where each point represents the variance of the original point based on 8 surrounding points\n",
    "def calculateVar_pts_in_matrix(M):\n",
    "    var_matrix = np.zeros((len(M[:,0]), len(M[0,:])))\n",
    "    for i in range(1,len(M[:,0])-1):       #for all rows except first and last\n",
    "        for j in range(1,len(M[0,:])-1):   #for all columns except first and last\n",
    "            pts = np.array([ M[i,j] , M[i+1, j] , M[i+1, j-1], M[i+1,j+1], M[i,j+1], M[i, j-1], M[i-1, j], M[i-1, j+1], M[i-1, j-1]])\n",
    "            var_matrix[i,j] = np.var(pts)\n",
    "    #Set Equal edges to inside rows\n",
    "    var_matrix[:,0] = var_matrix[:,1]\n",
    "    var_matrix[:,len(M[0,:])-1] = var_matrix[:,len(M[0,:]) - 2]\n",
    "    var_matrix[0,:] = var_matrix[1,:]\n",
    "    var_matrix[len(M[:,0])-1, :] = var_matrix[len(M[:,0]) - 2,:]\n",
    "    return(var_matrix)"
   ]
  },
  {
   "cell_type": "markdown",
   "metadata": {},
   "source": [
    "Orientation converted to radians before calculating variance because otherwise the range of -180 deg to 180 deg results in extremely large variances"
   ]
  },
  {
   "cell_type": "code",
   "execution_count": 41,
   "metadata": {},
   "outputs": [],
   "source": [
    "depth_var = calculateVar_pts_in_matrix(bathy.depth)\n",
    "slope_var = calculateVar_pts_in_matrix(bathy.slope)\n",
    "orient_var = calculateVar_pts_in_matrix(bathy.orient*np.pi/180)\n",
    "\n"
   ]
  },
  {
   "cell_type": "code",
   "execution_count": 42,
   "metadata": {},
   "outputs": [
    {
     "name": "stdout",
     "output_type": "stream",
     "text": [
      "(779, 600)\n",
      "(779, 600)\n",
      "(779, 600)\n",
      "(779, 600)\n",
      "(779, 600)\n",
      "(779, 600)\n"
     ]
    }
   ],
   "source": [
    "print(np.shape(bathy.depth))\n",
    "print(np.shape(bathy.slope))\n",
    "print(np.shape(bathy.orient))\n",
    "print(np.shape(depth_var))\n",
    "print(np.shape(slope_var))\n",
    "print(np.shape(orient_var))"
   ]
  },
  {
   "cell_type": "markdown",
   "metadata": {},
   "source": [
    "## Package and Save Data"
   ]
  },
  {
   "cell_type": "code",
   "execution_count": 43,
   "metadata": {},
   "outputs": [],
   "source": [
    "utm_x_list      = []\n",
    "utm_y_list      = [] \n",
    "depth_list      = []\n",
    "slope_list      = []\n",
    "orient_list     = []\n",
    "\n",
    "depth_var_list  = []\n",
    "slope_var_list  = []\n",
    "orient_var_list = []\n",
    "\n",
    "# j = 0       -->  top side \n",
    "# j = height  -->  bottom side\n",
    "# i = 0       -->  left side \n",
    "# i = width   -->  right side\n",
    "for i in range(bathy.width):\n",
    "    for j in range(bathy.height):\n",
    "        # extract relevant variables from the bathymetry array\n",
    "        lat = bathy.top  + ((bathy.bottom-bathy.top) /bathy.height)*j\n",
    "        lon = bathy.left + ((bathy.right -bathy.left)/bathy.width) *i\n",
    "        utm_x, utm_y, _, _ = utm.from_latlon(lat, lon)\n",
    "        cur_depth  = bathy.depth[j, i]\n",
    "        cur_slope  = bathy.slope[j, i]\n",
    "        cur_orient = bathy.orient[j, i]\n",
    "        \n",
    "        cur_depth_var  = depth_var[j, i]\n",
    "        cur_slope_var  = slope_var[j, i]\n",
    "        cur_orient_var = orient_var[j, i]\n",
    "        \n",
    "        utm_x_list.append(utm_x)\n",
    "        utm_y_list.append(utm_y)\n",
    "        depth_list.append(cur_depth)\n",
    "        slope_list.append(cur_slope)\n",
    "        orient_list.append(cur_orient)\n",
    "        depth_var_list.append(cur_depth_var)\n",
    "        slope_var_list.append(cur_slope_var)\n",
    "        orient_var_list.append(cur_orient_var)\n",
    "#     print(i/bathy.width)"
   ]
  },
  {
   "cell_type": "code",
   "execution_count": 44,
   "metadata": {},
   "outputs": [],
   "source": [
    "bathy_data = {\n",
    "    'utm_x_list'  : utm_x_list,\n",
    "    'utm_y_list'  : utm_y_list,\n",
    "    'depth_list'  : depth_list,\n",
    "    'slope_list'  : slope_list,\n",
    "    'orient_list' : orient_list,\n",
    "    'depth_var'   : depth_var_list,\n",
    "    'slope_var'   : slope_var_list,\n",
    "    'orient_var'  : orient_var_list,\n",
    "}\n",
    "bathy_df = pd.DataFrame.from_dict(bathy_data)"
   ]
  },
  {
   "cell_type": "code",
   "execution_count": 45,
   "metadata": {},
   "outputs": [],
   "source": [
    "y_min = 4.041e6\n",
    "y_max = 4.051e6\n",
    "x_min = 3.610e5\n",
    "x_max = 3.670e5\n",
    "\n",
    "\n",
    "bathy_sub_df = bathy_df[(bathy_df.utm_x_list < x_max) & \n",
    "                        (bathy_df.utm_x_list > x_min) &\n",
    "                        (bathy_df.utm_y_list < y_max) & \n",
    "                        (bathy_df.utm_y_list > y_min)]\n",
    "\n",
    "# ts.df[(ts.df.btm_beam0_range < danger) & \n",
    "#     (ts.df.btm_beam1_range < danger) & \n",
    "#     (ts.df.btm_beam2_range < danger) & \n",
    "#     (ts.df.btm_beam3_range < danger)]"
   ]
  },
  {
   "cell_type": "code",
   "execution_count": 46,
   "metadata": {},
   "outputs": [
    {
     "data": {
      "text/html": [
       "<div>\n",
       "<style scoped>\n",
       "    .dataframe tbody tr th:only-of-type {\n",
       "        vertical-align: middle;\n",
       "    }\n",
       "\n",
       "    .dataframe tbody tr th {\n",
       "        vertical-align: top;\n",
       "    }\n",
       "\n",
       "    .dataframe thead th {\n",
       "        text-align: right;\n",
       "    }\n",
       "</style>\n",
       "<table border=\"1\" class=\"dataframe\">\n",
       "  <thead>\n",
       "    <tr style=\"text-align: right;\">\n",
       "      <th></th>\n",
       "      <th>utm_x_list</th>\n",
       "      <th>utm_y_list</th>\n",
       "      <th>depth_list</th>\n",
       "      <th>slope_list</th>\n",
       "      <th>orient_list</th>\n",
       "      <th>depth_var</th>\n",
       "      <th>slope_var</th>\n",
       "      <th>orient_var</th>\n",
       "    </tr>\n",
       "  </thead>\n",
       "  <tbody>\n",
       "    <tr>\n",
       "      <th>9002</th>\n",
       "      <td>361007.683779</td>\n",
       "      <td>4.050991e+06</td>\n",
       "      <td>323.352966</td>\n",
       "      <td>3.851624</td>\n",
       "      <td>-61.512123</td>\n",
       "      <td>0.306321</td>\n",
       "      <td>0.124941</td>\n",
       "      <td>0.031901</td>\n",
       "    </tr>\n",
       "    <tr>\n",
       "      <th>9003</th>\n",
       "      <td>361007.521966</td>\n",
       "      <td>4.050981e+06</td>\n",
       "      <td>323.042572</td>\n",
       "      <td>4.714589</td>\n",
       "      <td>-51.262605</td>\n",
       "      <td>0.452428</td>\n",
       "      <td>0.390449</td>\n",
       "      <td>0.018786</td>\n",
       "    </tr>\n",
       "    <tr>\n",
       "      <th>9004</th>\n",
       "      <td>361007.360153</td>\n",
       "      <td>4.050971e+06</td>\n",
       "      <td>322.310486</td>\n",
       "      <td>5.537713</td>\n",
       "      <td>-41.863210</td>\n",
       "      <td>0.621067</td>\n",
       "      <td>0.156508</td>\n",
       "      <td>0.009789</td>\n",
       "    </tr>\n",
       "    <tr>\n",
       "      <th>9005</th>\n",
       "      <td>361007.198340</td>\n",
       "      <td>4.050961e+06</td>\n",
       "      <td>321.570587</td>\n",
       "      <td>4.970688</td>\n",
       "      <td>-49.834116</td>\n",
       "      <td>0.517337</td>\n",
       "      <td>0.535981</td>\n",
       "      <td>0.066494</td>\n",
       "    </tr>\n",
       "    <tr>\n",
       "      <th>9006</th>\n",
       "      <td>361007.036528</td>\n",
       "      <td>4.050951e+06</td>\n",
       "      <td>321.163300</td>\n",
       "      <td>4.308613</td>\n",
       "      <td>-74.209952</td>\n",
       "      <td>0.383509</td>\n",
       "      <td>1.060025</td>\n",
       "      <td>0.122146</td>\n",
       "    </tr>\n",
       "    <tr>\n",
       "      <th>...</th>\n",
       "      <td>...</td>\n",
       "      <td>...</td>\n",
       "      <td>...</td>\n",
       "      <td>...</td>\n",
       "      <td>...</td>\n",
       "      <td>...</td>\n",
       "      <td>...</td>\n",
       "      <td>...</td>\n",
       "    </tr>\n",
       "    <tr>\n",
       "      <th>467395</th>\n",
       "      <td>366838.063913</td>\n",
       "      <td>4.047486e+06</td>\n",
       "      <td>328.182861</td>\n",
       "      <td>0.431022</td>\n",
       "      <td>154.321285</td>\n",
       "      <td>0.019110</td>\n",
       "      <td>0.288753</td>\n",
       "      <td>0.120364</td>\n",
       "    </tr>\n",
       "    <tr>\n",
       "      <th>467396</th>\n",
       "      <td>366837.909066</td>\n",
       "      <td>4.047476e+06</td>\n",
       "      <td>328.286041</td>\n",
       "      <td>0.687586</td>\n",
       "      <td>152.010169</td>\n",
       "      <td>0.025947</td>\n",
       "      <td>0.245791</td>\n",
       "      <td>0.144992</td>\n",
       "    </tr>\n",
       "    <tr>\n",
       "      <th>467397</th>\n",
       "      <td>366837.754219</td>\n",
       "      <td>4.047466e+06</td>\n",
       "      <td>328.419464</td>\n",
       "      <td>0.756053</td>\n",
       "      <td>143.058038</td>\n",
       "      <td>0.035416</td>\n",
       "      <td>0.212802</td>\n",
       "      <td>0.101978</td>\n",
       "    </tr>\n",
       "    <tr>\n",
       "      <th>467398</th>\n",
       "      <td>366837.599373</td>\n",
       "      <td>4.047456e+06</td>\n",
       "      <td>328.505157</td>\n",
       "      <td>0.470731</td>\n",
       "      <td>105.598839</td>\n",
       "      <td>0.029949</td>\n",
       "      <td>0.205521</td>\n",
       "      <td>0.098130</td>\n",
       "    </tr>\n",
       "    <tr>\n",
       "      <th>467399</th>\n",
       "      <td>366837.444527</td>\n",
       "      <td>4.047446e+06</td>\n",
       "      <td>328.458282</td>\n",
       "      <td>0.434827</td>\n",
       "      <td>73.296829</td>\n",
       "      <td>0.029949</td>\n",
       "      <td>0.205521</td>\n",
       "      <td>0.098130</td>\n",
       "    </tr>\n",
       "  </tbody>\n",
       "</table>\n",
       "<p>205890 rows × 8 columns</p>\n",
       "</div>"
      ],
      "text/plain": [
       "           utm_x_list    utm_y_list  depth_list  slope_list  orient_list  \\\n",
       "9002    361007.683779  4.050991e+06  323.352966    3.851624   -61.512123   \n",
       "9003    361007.521966  4.050981e+06  323.042572    4.714589   -51.262605   \n",
       "9004    361007.360153  4.050971e+06  322.310486    5.537713   -41.863210   \n",
       "9005    361007.198340  4.050961e+06  321.570587    4.970688   -49.834116   \n",
       "9006    361007.036528  4.050951e+06  321.163300    4.308613   -74.209952   \n",
       "...               ...           ...         ...         ...          ...   \n",
       "467395  366838.063913  4.047486e+06  328.182861    0.431022   154.321285   \n",
       "467396  366837.909066  4.047476e+06  328.286041    0.687586   152.010169   \n",
       "467397  366837.754219  4.047466e+06  328.419464    0.756053   143.058038   \n",
       "467398  366837.599373  4.047456e+06  328.505157    0.470731   105.598839   \n",
       "467399  366837.444527  4.047446e+06  328.458282    0.434827    73.296829   \n",
       "\n",
       "        depth_var  slope_var  orient_var  \n",
       "9002     0.306321   0.124941    0.031901  \n",
       "9003     0.452428   0.390449    0.018786  \n",
       "9004     0.621067   0.156508    0.009789  \n",
       "9005     0.517337   0.535981    0.066494  \n",
       "9006     0.383509   1.060025    0.122146  \n",
       "...           ...        ...         ...  \n",
       "467395   0.019110   0.288753    0.120364  \n",
       "467396   0.025947   0.245791    0.144992  \n",
       "467397   0.035416   0.212802    0.101978  \n",
       "467398   0.029949   0.205521    0.098130  \n",
       "467399   0.029949   0.205521    0.098130  \n",
       "\n",
       "[205890 rows x 8 columns]"
      ]
     },
     "execution_count": 46,
     "metadata": {},
     "output_type": "execute_result"
    }
   ],
   "source": [
    "bathy_sub_df"
   ]
  },
  {
   "cell_type": "code",
   "execution_count": null,
   "metadata": {},
   "outputs": [],
   "source": [
    "# bathy_df.copy().append(pd.DataFrame.from_dict(\n",
    "#     {'depth_list'  : 0, \n",
    "#      'orient_list' : 0, \n",
    "#      'utm_x_list'  : 0, \n",
    "#      'utm_y_list'  : 0, \n",
    "#      'orient_list' : 0}))\n",
    "\n",
    "# bathy_df.copy().append(pd.DataFrame([[0,0,0,0,0]], columns=bathy_df.columns))\n",
    "# bathy_df"
   ]
  },
  {
   "cell_type": "code",
   "execution_count": 47,
   "metadata": {},
   "outputs": [],
   "source": [
    "bathy_sub_df.to_csv(\"C:/Users/grego/Dropbox/Kolumbo cruise 2019/zduguid/bathy/Kolumbo-10m-sub-withVar-orientInRad.csv\")\n",
    "# 'C:/Users/grego/Dropbox/Kolumbo cruise 2019/zduguid/bathy/Kolumbo-10m-utm-sub.csv'"
   ]
  },
  {
   "cell_type": "markdown",
   "metadata": {},
   "source": [
    "## Plotting"
   ]
  },
  {
   "cell_type": "code",
   "execution_count": null,
   "metadata": {},
   "outputs": [],
   "source": [
    "fig,ax=plt.subplots(figsize=(10,10))\n",
    "sns.scatterplot(\n",
    "    bathy_sub_df.utm_x_list,\n",
    "    bathy_sub_df.utm_y_list,\n",
    "    bathy_sub_df.slope_list,\n",
    "#     palette='viridis_r',\n",
    "    palette='inferno_r',\n",
    "#     palette='twilight_shifted',\n",
    "    linewidth=0,\n",
    "    legend=False)\n",
    "plt.axis('equal')\n",
    "#plt.savefig('/Users/zduguid/Desktop/fig/tmp.png')\n",
    "#plt.close()"
   ]
  },
  {
   "cell_type": "code",
   "execution_count": null,
   "metadata": {},
   "outputs": [],
   "source": [
    "# bathy.plot_depth_map()\n",
    "# bathy.plot_slope_map()\n",
    "# bathy.plot_orientation_map()\n",
    "# bathy.plot_three_factors()\n",
    "bathy.plot_depth_contours()"
   ]
  },
  {
   "cell_type": "code",
   "execution_count": null,
   "metadata": {},
   "outputs": [],
   "source": [
    "# # plot seafloor depth\n",
    "# sns.set(font_scale = 1.5)\n",
    "# fig, ax = plt.subplots(figsize=(15,8))\n",
    "# ep.plot_bands(\n",
    "#     -bathy, \n",
    "#     cmap='viridis_r',\n",
    "#     title=\"Depth Map [m]\",\n",
    "#     ax=ax,\n",
    "#     scale=False\n",
    "# )"
   ]
  },
  {
   "cell_type": "code",
   "execution_count": null,
   "metadata": {},
   "outputs": [],
   "source": [
    "def get_utm_coords_from_bathy_lat_lon(lat, lon): \n",
    "    \"\"\"TODO\n",
    "    \"\"\"\n",
    "    utm_pos  = utm.from_latlon(lat, lon)\n",
    "    easting  = round(utm_pos[0],2)\n",
    "    northing = round(utm_pos[1],2)\n",
    "    zone     = utm_pos[2]\n",
    "    return(easting, northing, zone)\n",
    "\n",
    "get_utm_coords_from_bathy_lat_lon(bathy_l, bathy_b)\n",
    "\n",
    "# bathy_l, bathy_r, bathy_b, bathy_t"
   ]
  },
  {
   "cell_type": "code",
   "execution_count": null,
   "metadata": {},
   "outputs": [],
   "source": [
    "\n",
    "bathy[bathy>=0]=np.nan\n",
    "bathy.shape"
   ]
  },
  {
   "cell_type": "code",
   "execution_count": null,
   "metadata": {},
   "outputs": [],
   "source": [
    "scharr = np.array([[ +3 -3j,  +10    , +3 +3j],\n",
    "                   [    -10j,   0    ,    +10j],\n",
    "                   [ -3 -3j,  -10    , -3 +3j]]) / 32  # Gx + j*Gy"
   ]
  },
  {
   "cell_type": "code",
   "execution_count": null,
   "metadata": {},
   "outputs": [],
   "source": [
    "bathy_grad = scipy.signal.convolve2d(bathy, scharr, boundary='symm', mode='same')/(np.max([delta_x,delta_y]))"
   ]
  },
  {
   "cell_type": "code",
   "execution_count": null,
   "metadata": {},
   "outputs": [],
   "source": [
    "bathy_slope  = np.arctan(np.absolute(bathy_grad))*RAD_TO_DEG"
   ]
  },
  {
   "cell_type": "code",
   "execution_count": null,
   "metadata": {},
   "outputs": [],
   "source": [
    "bathy_orient = np.angle(bathy_grad)*RAD_TO_DEG"
   ]
  },
  {
   "cell_type": "markdown",
   "metadata": {},
   "source": [
    "## Plot Environment Data"
   ]
  },
  {
   "cell_type": "code",
   "execution_count": null,
   "metadata": {},
   "outputs": [],
   "source": [
    "# sns.set(font_scale = 1.5)\n",
    "# fig, ax = plt.subplots(2,3, figsize=(15,8), gridspec_kw={'height_ratios': [2, 1]})\n",
    "# fig.subplots_adjust(hspace=.4)\n",
    "# fig.subplots_adjust(wspace=.3)\n",
    "# plt.suptitle(data['title'], fontweight='bold', fontsize=28)\n",
    "\n",
    "\n",
    "# # plot seafloor depth\n",
    "# ep.plot_bands(\n",
    "#     -bathy, \n",
    "#     cmap='viridis_r',\n",
    "#     title=\"Depth Map [m]\",\n",
    "#     ax=ax[0,0],\n",
    "#     scale=False\n",
    "# )\n",
    "\n",
    "\n",
    "# # plot seafloor slope\n",
    "# ep.plot_bands(\n",
    "#     bathy_slope, \n",
    "#     cmap='inferno_r',\n",
    "#     title='Gradiant [deg]',\n",
    "#     ax=ax[0,1],\n",
    "#     scale=False\n",
    "# )\n",
    "\n",
    "\n",
    "# # plot seafloor slope orientation \n",
    "# ep.plot_bands(\n",
    "#     bathy_orient, \n",
    "#     cmap='twilight_shifted',\n",
    "#     title='Orientation [deg]',\n",
    "#     ax=ax[0,2],\n",
    "#     scale=False\n",
    "# )\n",
    "\n",
    "\n",
    "# sns.kdeplot(-bathy.flatten(),       shade=True, ax=ax[1,0], linewidth=3)\n",
    "# sns.kdeplot(bathy_slope.flatten(),  shade=True, ax=ax[1,1], linewidth=3)\n",
    "# sns.kdeplot(bathy_orient.flatten(), shade=True, ax=ax[1,2], linewidth=3)\n",
    "# ax[1,0].set_xlabel('Depth [m]')\n",
    "# ax[1,1].set_xlabel('Slope [deg]')\n",
    "# ax[1,2].set_xlabel('Orientation [deg]')\n",
    "# xticks  = np.arange(bathy_w/data['num_ticks']/2, bathy_w, bathy_w/data['num_ticks'])\n",
    "# xlabels = [data['ticks'] % np.round((bathy_r-bathy_l)*(i/bathy_w) + bathy_l, 5) for i in xticks]\n",
    "# yticks  = np.arange(bathy_h/data['num_ticks']/2, bathy_h, bathy_h/data['num_ticks'])\n",
    "# ylabels = [data['ticks'] % np.round((bathy_b-bathy_t)*(i/bathy_h) + bathy_t, 5) for i in yticks]\n",
    "\n",
    "\n",
    "# # plot axis labels \n",
    "# for i in range(3):\n",
    "#     ax[0,i].set_xticks(xticks)\n",
    "#     ax[0,i].set_xticklabels(xlabels)\n",
    "#     ax[0,i].set_yticks(yticks)\n",
    "#     if i==0:\n",
    "#         ax[0,i].set_yticklabels(ylabels)\n",
    "#         ax[0,i].set_ylabel(data['ylabel'])\n",
    "#         ax[1,i].set_ylabel('Kernel Density')\n",
    "#     else:\n",
    "#         ax[0,i].set_yticklabels(['' for _ in ylabels])\n",
    "#     ax[0,i].set_xlabel(data['xlabel'])\n",
    "#     ax[0,i].grid(linewidth=1, alpha=1, color='lavenderblush')\n",
    "# plt.savefig('/Users/zduguid/Desktop/fig/tmp.png')\n",
    "# print('>> Plotting Complete')\n",
    "# plt.show()"
   ]
  }
 ],
 "metadata": {
  "kernelspec": {
   "display_name": "Python 3",
   "language": "python",
   "name": "python3"
  },
  "language_info": {
   "codemirror_mode": {
    "name": "ipython",
    "version": 3
   },
   "file_extension": ".py",
   "mimetype": "text/x-python",
   "name": "python",
   "nbconvert_exporter": "python",
   "pygments_lexer": "ipython3",
   "version": "3.7.8"
  }
 },
 "nbformat": 4,
 "nbformat_minor": 4
}
